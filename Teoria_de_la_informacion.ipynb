{
 "cells": [
  {
   "cell_type": "code",
   "execution_count": 3,
   "id": "f5768fd9",
   "metadata": {},
   "outputs": [
    {
     "name": "stdout",
     "output_type": "stream",
     "text": [
      "17.53388090349076\n",
      "41.96000198204841\n"
     ]
    }
   ],
   "source": [
    "import csv\n",
    "archivo_melbourne='temperature_Melbourne_celsius.csv'\n",
    "valores= []\n",
    "promedio_melbourne = 0.0\n",
    "with open(archivo_melbourne, 'r') as archivo:\n",
    "    reader = csv.reader(archivo)\n",
    "    next(reader)  \n",
    "    valores = [float(fila[0]) for fila in reader]\n",
    "\n",
    "promedio = sum(valores) / len(valores)\n",
    "\n",
    "#valores_al_cuadrado = [x**2 for x in valores]\n",
    "varianza = sum((x - promedio)**2 for x in valores ) / (len(valores) - 1) \n",
    "\n",
    "print(promedio)\n",
    "print(varianza)\n"
   ]
  }
 ],
 "metadata": {
  "kernelspec": {
   "display_name": ".venv",
   "language": "python",
   "name": "python3"
  },
  "language_info": {
   "codemirror_mode": {
    "name": "ipython",
    "version": 3
   },
   "file_extension": ".py",
   "mimetype": "text/x-python",
   "name": "python",
   "nbconvert_exporter": "python",
   "pygments_lexer": "ipython3",
   "version": "3.12.5"
  }
 },
 "nbformat": 4,
 "nbformat_minor": 5
}

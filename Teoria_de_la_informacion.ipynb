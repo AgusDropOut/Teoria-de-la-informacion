{
 "cells": [
  {
   "cell_type": "markdown",
   "id": "792b4a3a",
   "metadata": {},
   "source": [
    "# Parte 1: Estadísticas para ingenieros que miran el cielo"
   ]
  },
  {
   "cell_type": "markdown",
   "id": "4c7f337f",
   "metadata": {},
   "source": [
    "\n",
    "## 1.1 Promedio y desvio"
   ]
  },
  {
   "cell_type": "markdown",
   "id": "7b2d322e",
   "metadata": {},
   "source": [
    "### Melbourne"
   ]
  },
  {
   "cell_type": "code",
   "execution_count": null,
   "id": "f5768fd9",
   "metadata": {},
   "outputs": [],
   "source": [
    "import csv\n",
    "\n",
    "#from IPython.testing.decorators import onlyif_unicode_paths\n",
    "\n",
    "archivo='temperature_Melbourne_celsius.csv'\n",
    "valores_melbourne= []\n",
    "promedio_melbourne = 0.0\n",
    "with open(archivo, 'r') as archivo:\n",
    "    reader = csv.reader(archivo)\n",
    "    next(reader)  \n",
    "    valores_melbourne = [float(fila[0]) for fila in reader]\n",
    "\n",
    "promedio_melbourne = sum(valores_melbourne) / len(valores_melbourne)\n",
    "varianza_melbourne = sum((x - promedio_melbourne)**2 for x in valores_melbourne ) / (len(valores_melbourne) - 1) \n",
    "desvio_melbourne=varianza_melbourne**(0.5)\n",
    "\n",
    "print(\"Promedio:\", promedio_melbourne)\n",
    "print(\"Varianza:\", varianza_melbourne)\n",
    "print(\"Desvio:\", desvio_melbourne)\n"
   ]
  },
  {
   "cell_type": "markdown",
   "id": "2d416e5b",
   "metadata": {},
   "source": [
    "### Oslo"
   ]
  },
  {
   "cell_type": "code",
   "execution_count": null,
   "id": "789f41a7",
   "metadata": {},
   "outputs": [],
   "source": [
    "import csv\n",
    "archivo='temperature_Oslo_celsius.csv'\n",
    "valores_oslo= []\n",
    "promedio_oslo = 0.0\n",
    "with open(archivo, 'r') as archivo:\n",
    "    reader = csv.reader(archivo)\n",
    "    next(reader)  \n",
    "    valores_oslo = [float(fila[0]) for fila in reader]\n",
    "\n",
    "promedio_oslo = sum(valores_oslo) / len(valores_oslo)\n",
    "varianza_oslo = sum((x - promedio_oslo)**2 for x in valores_oslo ) / (len(valores_oslo) - 1) \n",
    "desvio_oslo=varianza_oslo**(0.5)\n",
    "\n",
    "print(\"Promedio:\", promedio_oslo)\n",
    "print(\"Varianza:\", varianza_oslo)\n",
    "print(\"Desvio:\", desvio_oslo)"
   ]
  },
  {
   "cell_type": "markdown",
   "id": "7d30b337",
   "metadata": {},
   "source": [
    "### Quito"
   ]
  },
  {
   "cell_type": "code",
   "execution_count": null,
   "id": "fdf7ead5",
   "metadata": {},
   "outputs": [],
   "source": [
    "import csv\n",
    "archivo='temperature_Quito_celsius.csv'\n",
    "valores_quito= []\n",
    "promedio_quito = 0.0\n",
    "with open(archivo, 'r') as archivo:\n",
    "    reader = csv.reader(archivo)\n",
    "    next(reader)  \n",
    "    valores_quito = [float(fila[0]) for fila in reader]\n",
    "\n",
    "promedio_quito = sum(valores_quito) / len(valores_quito)\n",
    "varianza_quito = sum((x - promedio_quito)**2 for x in valores_quito ) / (len(valores_quito) - 1) \n",
    "desvio_quito=varianza_quito**(0.5)\n",
    "\n",
    "print(\"Promedio:\", promedio_quito)\n",
    "print(\"Varianza:\", varianza_quito)\n",
    "print(\"Desvio:\", desvio_quito)"
   ]
  },
  {
   "cell_type": "markdown",
   "id": "c194f98d0cf20605",
   "metadata": {},
   "source": [
    "## 1.2 Calcular el factor de correlación cruzada entre cada par de señales"
   ]
  },
  {
   "cell_type": "code",
   "execution_count": null,
   "id": "88dccf56",
   "metadata": {},
   "outputs": [],
   "source": [
    "def correlacion_cruzada(valores_A, valores_B, desvio_A, desvio_B, promedio_A, promedio_B):\n",
    "    producto=0\n",
    "    for i in range(0, len(valores_A)):\n",
    "        producto = producto + (valores_A[i] * valores_B[i] - promedio_A * promedio_B)\n",
    "    \n",
    "    cov=(producto)/len(valores_A)\n",
    "\n",
    "    correlacion_A_B = cov / (desvio_A * desvio_B)\n",
    "\n",
    "    print(correlacion_A_B)\n"
   ]
  },
  {
   "cell_type": "markdown",
   "id": "26ef2878",
   "metadata": {},
   "source": [
    "### Melbourne y Oslo"
   ]
  },
  {
   "cell_type": "code",
   "execution_count": null,
   "id": "f42aa748",
   "metadata": {},
   "outputs": [],
   "source": [
    "correlacion_cruzada(valores_melbourne, valores_oslo, desvio_melbourne, desvio_oslo, promedio_melbourne, promedio_oslo)"
   ]
  },
  {
   "cell_type": "markdown",
   "id": "47dbedf5",
   "metadata": {},
   "source": [
    "### Melbourne y Quito"
   ]
  },
  {
   "cell_type": "code",
   "execution_count": null,
   "id": "74c5e419",
   "metadata": {},
   "outputs": [],
   "source": [
    "correlacion_cruzada(valores_melbourne, valores_quito, desvio_melbourne, desvio_quito, promedio_melbourne, promedio_quito)"
   ]
  },
  {
   "cell_type": "markdown",
   "id": "48187b68",
   "metadata": {},
   "source": [
    "### Oslo y Quito"
   ]
  },
  {
   "cell_type": "code",
   "execution_count": null,
   "id": "11210a18",
   "metadata": {},
   "outputs": [],
   "source": [
    "correlacion_cruzada(valores_oslo, valores_quito, desvio_oslo, desvio_quito, promedio_oslo, promedio_quito)"
   ]
  },
  {
   "cell_type": "markdown",
   "id": "8dcae4b5a4003412",
   "metadata": {},
   "source": [
    "Con estos datos podemos decir que las temperaturas en las distintas ciudades no tienen nada que ver una con la otra, el clima de una no nos aporta ninguna información sobre el clima en las otras ciudades"
   ]
  },
  {
   "cell_type": "markdown",
   "id": "899545f4",
   "metadata": {},
   "source": [
    "# Parte 2: Una fuente de calor... markoviana"
   ]
  },
  {
   "cell_type": "code",
   "execution_count": null,
   "id": "b83f2c47",
   "metadata": {},
   "outputs": [],
   "source": [
    "def crear_fuente(valores):\n",
    "    fuente_num = []\n",
    "    fuente_alfa = []\n",
    "    for i in valores:\n",
    "        if (i < 11.0):\n",
    "            fuente_num.append(0)\n",
    "            fuente_alfa.append(\"F\")\n",
    "        elif ((i >= 11.0) and (i < 19.0)):\n",
    "            fuente_num.append(1)\n",
    "            fuente_alfa.append(\"T\")\n",
    "        else:\n",
    "            fuente_num.append(2)\n",
    "            fuente_alfa.append(\"C\")\n",
    "    return fuente_num, fuente_alfa"
   ]
  },
  {
   "cell_type": "code",
   "execution_count": null,
   "id": "4bb4ef09",
   "metadata": {},
   "outputs": [],
   "source": [
    "fuente_quito, fuente_alfa_quito = crear_fuente(valores_quito)\n",
    "fuente_melbourne, fuente_alfa_melbourne = crear_fuente(valores_melbourne)\n",
    "fuente_oslo, fuente_alfa_oslo = crear_fuente(valores_oslo)\n",
    "\n",
    "print(fuente_quito )\n",
    "print(fuente_melbourne)\n",
    "print(fuente_oslo)"
   ]
  },
  {
   "cell_type": "markdown",
   "id": "323dc5e5",
   "metadata": {},
   "source": [
    "## 1. Matrices de transición"
   ]
  },
  {
   "cell_type": "code",
   "execution_count": null,
   "id": "598c02fb",
   "metadata": {},
   "outputs": [],
   "source": [
    "import numpy as np\n",
    "\n",
    "def matriz_transicion(fuente):\n",
    "    m_transicion = np.zeros((3, 3), dtype=float)\n",
    "\n",
    "    for i in range(1, len(fuente)):\n",
    "        m_transicion[fuente[i], fuente[i - 1]] += 1\n",
    "\n",
    "    # Sumar columnas\n",
    "    suma_columnas = [0, 0, 0]\n",
    "    for i in range(3):\n",
    "        for j in range(3):\n",
    "            suma_columnas[j] += m_transicion[i, j]\n",
    "\n",
    "    # Normalizar columnas\n",
    "    for i in range(3):\n",
    "        for j in range(3):\n",
    "            if suma_columnas[j] != 0:\n",
    "                m_transicion[i, j] /= suma_columnas[j]\n",
    "\n",
    "    print(\"Matriz de transición:\")\n",
    "    print(m_transicion)\n",
    "    #print(\"Sumas por columna:\")\n",
    "    #print(suma_columnas)\n",
    "    return m_transicion\n"
   ]
  },
  {
   "cell_type": "code",
   "execution_count": null,
   "id": "17841ad1",
   "metadata": {},
   "outputs": [],
   "source": [
    "m_transicion_quito = matriz_transicion(fuente_quito)\n",
    "m_transicion_melbourne = matriz_transicion(fuente_melbourne)\n",
    "m_transicion_oslo = matriz_transicion(fuente_oslo)"
   ]
  },
  {
   "cell_type": "markdown",
   "id": "ed3ca2a2",
   "metadata": {},
   "source": [
    "## 2. Muestreo Montecarlo"
   ]
  },
  {
   "cell_type": "markdown",
   "id": "acf6c156",
   "metadata": {},
   "source": [
    "### Probabilidad estacionaria"
   ]
  },
  {
   "cell_type": "markdown",
   "id": "1286c7b4",
   "metadata": {},
   "source": [
    "#### Calculamos la matriz de transicion acumulada "
   ]
  },
  {
   "cell_type": "code",
   "execution_count": null,
   "id": "406c7221",
   "metadata": {},
   "outputs": [],
   "source": [
    "def matriz_acumulada(m_transicion):\n",
    "    m_acumulada = np.zeros((3, 3), dtype=float)\n",
    "\n",
    "    for j in range(3):\n",
    "        m_acumulada[0][j] = m_transicion[0, j]\n",
    "\n",
    "    for i in range(1, 3):\n",
    "        for j in range(0, 3):\n",
    "            m_acumulada[i][j] = m_acumulada[i-1][j] + m_transicion[i][j]\n",
    "    \n",
    "    return m_acumulada"
   ]
  },
  {
   "cell_type": "code",
   "execution_count": null,
   "id": "31e49433",
   "metadata": {},
   "outputs": [],
   "source": [
    "m_acumulada_quito = matriz_acumulada(m_transicion_quito)\n",
    "m_acumulada_melbourne = matriz_acumulada(m_transicion_melbourne)\n",
    "m_acumulada_oslo = matriz_acumulada(m_transicion_oslo)\n",
    "\n",
    "print(m_acumulada_quito)\n",
    "print(m_acumulada_melbourne)\n",
    "print(m_acumulada_oslo)"
   ]
  },
  {
   "cell_type": "markdown",
   "id": "fa64321f",
   "metadata": {},
   "source": [
    "#### Calculamos las probabilidades del primer simbolo y la probabilidad acumulada"
   ]
  },
  {
   "cell_type": "code",
   "execution_count": null,
   "id": "1d543886",
   "metadata": {},
   "outputs": [],
   "source": [
    "def probabilidad_simbolos(fuente):\n",
    "    probabilidad = [0, 0, 0]\n",
    "    for s in fuente:\n",
    "        probabilidad[s] += 1\n",
    "\n",
    "    for i in range(3):\n",
    "        probabilidad[i] = probabilidad[i] / len(fuente)\n",
    "    \n",
    "    return probabilidad"
   ]
  },
  {
   "cell_type": "code",
   "execution_count": null,
   "id": "325e1731",
   "metadata": {},
   "outputs": [],
   "source": [
    "prob_quito = probabilidad_simbolos(fuente_quito)\n",
    "prob_melbourne = probabilidad_simbolos(fuente_melbourne)\n",
    "prob_oslo = probabilidad_simbolos(fuente_oslo)\n",
    "\n",
    "print(prob_quito)\n",
    "print(prob_melbourne)\n",
    "print(prob_oslo)"
   ]
  },
  {
   "cell_type": "code",
   "execution_count": null,
   "id": "4bdac28d",
   "metadata": {},
   "outputs": [],
   "source": [
    "def probabilidad_simb_acumulada(prob):\n",
    "    prob_acumulada = [0, 0, 0]\n",
    "\n",
    "    prob_acumulada[0] = prob[0]\n",
    "\n",
    "    for i in range (1, 3):\n",
    "        prob_acumulada[i] = prob_acumulada[i-1] + prob[i]\n",
    "\n",
    "    return prob_acumulada"
   ]
  },
  {
   "cell_type": "code",
   "execution_count": null,
   "id": "adec078e",
   "metadata": {},
   "outputs": [],
   "source": [
    "prob_acumulada_quito = probabilidad_simb_acumulada(prob_quito)\n",
    "prob_acumulada_melbourne = probabilidad_simb_acumulada(prob_melbourne)\n",
    "prob_acumulada_oslo = probabilidad_simb_acumulada(prob_oslo)\n",
    "\n",
    "print(prob_acumulada_quito)\n",
    "print(prob_acumulada_melbourne)\n",
    "print(prob_acumulada_oslo)"
   ]
  },
  {
   "cell_type": "markdown",
   "id": "224ba81c",
   "metadata": {},
   "source": [
    "#### Vector estacionario"
   ]
  },
  {
   "cell_type": "code",
   "execution_count": null,
   "id": "f1889cb1",
   "metadata": {},
   "outputs": [],
   "source": [
    "import random\n",
    "random.seed(6)\n",
    "\n",
    "S_MIN = 200\n",
    "\n",
    "def primer_simb(prob_acum_v0):\n",
    "    r = random.random()\n",
    "    for i in range(3):\n",
    "        if r < prob_acum_v0[i]:\n",
    "            return i\n",
    "\n",
    "def sig_dado_ant(s_ant, m_acumulada):\n",
    "    r = random.random()\n",
    "    for i in range(3):\n",
    "        if r < m_acumulada[i][s_ant]:\n",
    "            return i\n",
    "\n",
    "def converge(A, B):\n",
    "    epsilon = 0.001\n",
    "    for i in range(3):\n",
    "        if abs(A[i] - B[i]) > epsilon:\n",
    "            return False\n",
    "    return True\n",
    "\n",
    "def distancia(v1, v2):\n",
    "    return sum(abs(v1[i] - v2[i]) for i in range(3))\n",
    " \n",
    "def calcular_vector_estacionario(m_acumulada, prob_acum_v0):\n",
    "    emisiones = [0, 0, 0]\n",
    "    V = [0, 0, 0]\n",
    "    V_ant = [-1, -1, -1]\n",
    "    cant_simb = 0\n",
    "    diferencia_vectores = []\n",
    "    iteraciones = []\n",
    "    punto_convergencia = 0\n",
    "\n",
    "    s = primer_simb(prob_acum_v0)\n",
    "    \n",
    "    while ( not converge(V,V_ant) or cant_simb < S_MIN):\n",
    "        s = sig_dado_ant(s, m_acumulada)\n",
    "        emisiones[s] += 1\n",
    "        cant_simb += 1\n",
    "        V_ant = V.copy()\n",
    "\n",
    "        for i in range(3):\n",
    "            V[i] = emisiones[i] / cant_simb\n",
    "\n",
    "\n",
    "\n",
    "        diferencia_actual = distancia(V, V_ant)\n",
    "        diferencia_vectores.append(diferencia_actual)\n",
    "        iteraciones.append(cant_simb)\n",
    "    punto_convergencia = cant_simb\n",
    "    return V, diferencia_vectores, iteraciones, punto_convergencia\n"
   ]
  },
  {
   "cell_type": "code",
   "execution_count": null,
   "id": "6e232e00",
   "metadata": {},
   "outputs": [],
   "source": [
    "v_estacionario_quito, diferencia_quito, iteraciones_quito, convergencia_quito  = calcular_vector_estacionario(m_acumulada_quito, prob_acumulada_quito)\n",
    "v_estacionario_melbourne, diferencia_melbourne, iteraciones_melbourne, convergencia_melbourne = calcular_vector_estacionario(m_acumulada_melbourne, prob_acumulada_melbourne)\n",
    "v_estacionario_oslo, diferencia_oslo, iteraciones_oslo, convergencia_oslo = calcular_vector_estacionario(m_acumulada_oslo, prob_acumulada_oslo)\n",
    "\n",
    "print(f\"Vector estacionario para la ciudad de Quito: {v_estacionario_quito}\")\n",
    "print(f\"Valor de convergencia: {convergencia_quito}\")\n",
    "print(\" \")\n",
    "print(f\"Vector estacionario para la ciudad de Melbourne: {v_estacionario_melbourne}\")\n",
    "print(f\"Valor de convergencia: {convergencia_melbourne}\")\n",
    "print(\" \")\n",
    "print(f\"Vector estacionario para la ciudad de Oslo: {v_estacionario_oslo}\")\n",
    "print(f\"Valor de convergencia: {convergencia_oslo}\")"
   ]
  },
  {
   "cell_type": "markdown",
   "id": "8c7cd90989ed8b1d",
   "metadata": {},
   "source": [
    "Ahora que tenemos tanto los vectores estacionarios, como las diferencias y las iteraciones donde se producen esas diferencias, podemos hacer un gráfico para observar de mejor manera esta convergencia en las probabilidades de los símbolos"
   ]
  },
  {
   "cell_type": "code",
   "execution_count": null,
   "id": "6a99f8df46f09cf6",
   "metadata": {},
   "outputs": [],
   "source": [
    "import matplotlib.pyplot as plt\n",
    "import numpy as np\n",
    "\n",
    "def graficar_convergencia(iteraciones, diferencia_vectores, nombre_ciudad, convergencia):\n",
    "    plt.figure(figsize=(10, 6))\n",
    "    plt.plot(iteraciones, diferencia_vectores, label=\"Distancia entre vectores\", color='red', linewidth=1.5)\n",
    "    plt.xlabel('Cantidad de símbolos generados', fontsize=12)\n",
    "    plt.axvline(x=convergencia, linestyle='--', color='green', linewidth=1.5, label=f'Convergencia en {convergencia}')\n",
    "    plt.plot([], [], ' ', label=\"Epsilon = 0.001\")\n",
    "    plt.plot([], [], ' ', label=\"Iteraciones Minimas = 200\")\n",
    "    plt.text(\n",
    "        convergencia,\n",
    "        max(diferencia_vectores)*0.9,\n",
    "        f'{convergencia}',\n",
    "        rotation=90,\n",
    "        va='bottom', ha='right',\n",
    "        fontsize=10,\n",
    "        color='green'\n",
    "    )\n",
    "    plt.yticks(np.arange(0.0, 1.0, 0.05))\n",
    "    plt.xticks(np.arange(0, 501, 50))\n",
    "    plt.ylabel('Distancia entre V_actual y V_anterior', fontsize=12)\n",
    "    plt.title(f\"Convergencia del Vector Estacionario {nombre_ciudad}\", fontsize=14)\n",
    "    plt.grid(True, linestyle='--', alpha=0.6)\n",
    "    plt.legend(fontsize=11, loc='upper right')\n",
    "    plt.subplots_adjust(top=0.9, bottom=0.1, left=0.1, right=0.9)  # Ajuste manual de márgenes\n",
    "    plt.show()\n"
   ]
  },
  {
   "cell_type": "code",
   "execution_count": null,
   "id": "7ce182c72c9a59e1",
   "metadata": {},
   "outputs": [],
   "source": [
    "graficar_convergencia(iteraciones_quito, diferencia_quito, \"Quito\", convergencia_quito)\n",
    "graficar_convergencia(iteraciones_melbourne, diferencia_melbourne, \"Melbourne\", convergencia_melbourne)\n",
    "graficar_convergencia(iteraciones_oslo, diferencia_oslo, \"Oslo\", convergencia_oslo)"
   ]
  },
  {
   "cell_type": "markdown",
   "id": "095baf22",
   "metadata": {},
   "source": [
    "### Tiempo medio de primera recurrencia"
   ]
  },
  {
   "cell_type": "code",
   "execution_count": null,
   "id": "71375bfb",
   "metadata": {},
   "outputs": [],
   "source": [
    "S_MIN = 1000\n",
    "\n",
    "def converge(A, B):\n",
    "    epsilon = 0.05\n",
    "    if abs(A - B) > epsilon:\n",
    "        return False\n",
    "    return True\n",
    "\n",
    "def sig_dado_ant(s_ant, m_acumulada):\n",
    "    r = random.random()\n",
    "    for i in range(3):\n",
    "        if r < m_acumulada[i][s_ant]:\n",
    "            return i\n",
    "\n",
    "\n",
    "def Media_recurrencia(simbolo,m_acumulada):\n",
    "    retornos=0\n",
    "    media=0\n",
    "    media_ant=-1\n",
    "    t_actual=0\n",
    "    s=simbolo\n",
    "    while (not converge(media,media_ant)or (t_actual<S_MIN)):\n",
    "        s=sig_dado_ant(s,m_acumulada)\n",
    "        t_actual+=1\n",
    "        if(s==simbolo):\n",
    "            retornos+=1\n",
    "            media_ant=media\n",
    "            media=t_actual/retornos\n",
    "\n",
    "    return media"
   ]
  },
  {
   "cell_type": "markdown",
   "id": "e5ff97548815a3ee",
   "metadata": {},
   "source": [
    "### Media de recurrencia para simbolos F,T,C Quito"
   ]
  },
  {
   "cell_type": "code",
   "execution_count": null,
   "id": "813d35af74dee4a6",
   "metadata": {},
   "outputs": [],
   "source": [
    "print(\"Media de primera recurrencia para simbolo F \"+str(Media_recurrencia(0,m_acumulada_quito)))\n",
    "print(\"Media de primera recurrencia para simbolo T \"+str(Media_recurrencia(1,m_acumulada_quito)))\n",
    "print(\"Media de primera recurrencia para simbolo C \"+str(Media_recurrencia(2,m_acumulada_quito)))"
   ]
  },
  {
   "cell_type": "markdown",
   "id": "e7eee7ace18af141",
   "metadata": {},
   "source": [
    "### Media de recurrencia para simbolos F,T,C Melborne"
   ]
  },
  {
   "cell_type": "code",
   "execution_count": null,
   "id": "1a1889aacb26718e",
   "metadata": {},
   "outputs": [],
   "source": [
    "print(\"Media de primera recurrencia para simbolo F \"+str(Media_recurrencia(0,m_acumulada_melbourne)))\n",
    "print(\"Media de primera recurrencia para simbolo T \"+str(Media_recurrencia(1,m_acumulada_melbourne)))\n",
    "print(\"Media de primera recurrencia para simbolo C \"+str(Media_recurrencia(2,m_acumulada_melbourne)))"
   ]
  },
  {
   "cell_type": "markdown",
   "id": "53de9baf327fd1f5",
   "metadata": {},
   "source": [
    "### Media de recurrencia para simbolos F,T,C Oslo"
   ]
  },
  {
   "cell_type": "code",
   "execution_count": null,
   "id": "4766112bb3a1d4ed",
   "metadata": {},
   "outputs": [],
   "source": [
    "print(\"Media de primera recurrencia para simbolo F: \"+str(Media_recurrencia(0,m_acumulada_oslo)))\n",
    "print(\"Media de primera recurrencia para simbolo T: \"+str(Media_recurrencia(1,m_acumulada_oslo)))\n",
    "print(\"Media de primera recurrencia para simbolo C: \"+str(Media_recurrencia(2,m_acumulada_oslo)))"
   ]
  },
  {
   "cell_type": "markdown",
   "id": "6fd191473583c625",
   "metadata": {},
   "source": [
    "# Parte 3: Entropía, Huffman y la batalla por los bits"
   ]
  },
  {
   "cell_type": "markdown",
   "id": "34d03f29",
   "metadata": {},
   "source": [
    "## 1. Calcular la entropía"
   ]
  },
  {
   "cell_type": "markdown",
   "id": "9e6b2b179380fc28",
   "metadata": {},
   "source": [
    "### Entropía sin memoria"
   ]
  },
  {
   "cell_type": "code",
   "execution_count": null,
   "id": "291d8025becb3b5e",
   "metadata": {},
   "outputs": [],
   "source": [
    "import math\n",
    "\n",
    "def entropia_sin_mem(prob):\n",
    "    entropia = 0\n",
    "    for i in range(len(prob)):\n",
    "        if prob[i] > 0:\n",
    "            entropia += - prob[i] * math.log2(prob[i])\n",
    "    return entropia"
   ]
  },
  {
   "cell_type": "code",
   "execution_count": null,
   "id": "45add9a4881b61c6",
   "metadata": {},
   "outputs": [],
   "source": [
    "entropia_quito = entropia_sin_mem(v_estacionario_quito)\n",
    "entropia_melbourne = entropia_sin_mem(v_estacionario_melbourne)\n",
    "entropia_oslo = entropia_sin_mem(v_estacionario_oslo)\n",
    "\n",
    "print(f\"Entropía sin memoria quito: {entropia_quito}\")\n",
    "print(f\"Entropia sin memoria melbourne: {entropia_melbourne}\")\n",
    "print(f\"Entropia sin memoria oslo: {entropia_oslo}\")"
   ]
  },
  {
   "cell_type": "markdown",
   "id": "82422469602f0d64",
   "metadata": {},
   "source": [
    "### Entropía con memoria"
   ]
  },
  {
   "cell_type": "code",
   "execution_count": null,
   "id": "1ccf8adc",
   "metadata": {},
   "outputs": [],
   "source": [
    "def calcular_hi(matriz_transicion):\n",
    "    h = [0, 0, 0]\n",
    "    for j in range(3):\n",
    "        for i in range(3):\n",
    "            p = matriz_transicion[i][j]\n",
    "            if p > 0:\n",
    "                h[j] += float(- p * math.log2(p))\n",
    "    return h"
   ]
  },
  {
   "cell_type": "code",
   "execution_count": null,
   "id": "71f5e508374f0fd0",
   "metadata": {},
   "outputs": [],
   "source": [
    "def calcular_entropia_memoria(probabilidades, matriz_transicion):\n",
    "    hcond = 0\n",
    "    for j in range(len(probabilidades)):\n",
    "        hi = 0\n",
    "        for i in range(len(probabilidades)):\n",
    "            p = matriz_transicion[i][j]\n",
    "            if p > 0:\n",
    "                hi += p * math.log2(p)\n",
    "        hcond += probabilidades[j] * (-hi)\n",
    "    return hcond"
   ]
  },
  {
   "cell_type": "code",
   "execution_count": null,
   "id": "74ffb79975d14ec6",
   "metadata": {},
   "outputs": [],
   "source": [
    "entropia_cond_quito = calcular_entropia_memoria(v_estacionario_quito, m_transicion_quito)\n",
    "entropia_cond_melbourne = calcular_entropia_memoria(v_estacionario_melbourne, m_transicion_melbourne)\n",
    "entropia_cond_oslo = calcular_entropia_memoria(v_estacionario_oslo, m_transicion_oslo)\n",
    "\n",
    "print(f\"Entropia quito con memoria 1: {entropia_cond_quito}\")\n",
    "print(f\"Entropía melbourne con memoria 1: {entropia_cond_melbourne}\")\n",
    "print(f\"Entropía oslo con memoria 1: {entropia_cond_oslo}\")"
   ]
  },
  {
   "cell_type": "markdown",
   "id": "11d0b9db",
   "metadata": {},
   "source": [
    "## 2. Implementar el Algoritmo de Huffman. Aplicar Teorema de Shannon"
   ]
  },
  {
   "cell_type": "markdown",
   "id": "3bbdf0133709f199",
   "metadata": {},
   "source": [
    "### Huffman"
   ]
  },
  {
   "cell_type": "code",
   "execution_count": null,
   "id": "bc73694e375e0213",
   "metadata": {},
   "outputs": [],
   "source": [
    "\n",
    "\n",
    "import heapq\n",
    "\n",
    "#Aclaraciones: Utilizamos como estructura principal un min heap, que vimos en ayda 2. Para delegar la responsabilidad de obtener los nodos menores al heap.\n",
    "\n",
    "\n",
    "#Nodo intermedio, solo tiene la probabilidad asociada\n",
    "class Nodo:\n",
    "    def __init__(self, probabilidad, izq=None, der=None):\n",
    "        self.probabilidad = probabilidad\n",
    "        self.nodo_izq = izq\n",
    "        self.nodo_der = der\n",
    "#Este metodo es para que el heap lo pueda utilizar internamente para comparar nodos\n",
    "    def __lt__(self, other):\n",
    "        return self.probabilidad < other.probabilidad\n",
    "#Nodo hoja, probabilidad + simbolo\n",
    "class Nodo_hoja(Nodo):\n",
    "    def __init__(self, simbolo, probabilidad):\n",
    "        super().__init__(probabilidad)\n",
    "        self.simbolo = simbolo\n",
    "#Inicializacion del heap, con los nodos hoja\n",
    "def insertar_nodos_hoja(min_heap_nodos, lista_prob, lista_simbolos):\n",
    "    for i in range(len(lista_prob)):\n",
    "        n = Nodo_hoja(lista_simbolos[i], lista_prob[i])\n",
    "        heapq.heappush(min_heap_nodos, n)\n",
    "\n",
    "#Algoritmo de huffman\n",
    "#Mientras no nos quedemos con un solo nodo en el heap hacemos:\n",
    "# 1. Agarramos los dos nodos con menores probabilidades\n",
    "# 2. Sumamos las dos probabilidad y creamos un nuevo nodo que tenga como hijos los dos nodos obtenidos y asignandole la suma de las probabilidades\n",
    "# 3. Metemos el nodo nuevo al heap\n",
    "def encontrar_arbol_huffman(min_heap_nodos, lista_prob, lista_simbolos):\n",
    "    insertar_nodos_hoja(min_heap_nodos, lista_prob, lista_simbolos)\n",
    "    while len(min_heap_nodos) > 1:\n",
    "        min1 = heapq.heappop(min_heap_nodos)\n",
    "        min2 = heapq.heappop(min_heap_nodos)\n",
    "        suma_minimos = min1.probabilidad + min2.probabilidad\n",
    "        nodo_suma = Nodo(suma_minimos, min1, min2)\n",
    "        heapq.heappush(min_heap_nodos, nodo_suma)\n",
    "    return heapq.heappop(min_heap_nodos)  \n",
    "\n",
    "\n",
    "#Para obtener la codificacion hacemos un recorrido preorder, como los que vimos en prog 2:\n",
    "#Si no estamos en un nodo hoja(no llegamos al final)\n",
    "#Nos metemos por la izquierda concatenando 0 y a la derecha concatenando 1.\n",
    "def generar_codigos(nodo, codigo_actual=\"\", diccionario=None):\n",
    "    if diccionario is None:\n",
    "        diccionario = {}\n",
    "\n",
    "    if isinstance(nodo, Nodo_hoja):  \n",
    "        diccionario[nodo.simbolo] = [codigo_actual, nodo.probabilidad]\n",
    "    else:\n",
    "        \n",
    "        if nodo.nodo_izq:\n",
    "            generar_codigos(nodo.nodo_izq, codigo_actual + \"0\", diccionario)\n",
    "        \n",
    "        if nodo.nodo_der:\n",
    "            generar_codigos(nodo.nodo_der, codigo_actual + \"1\", diccionario)\n",
    "\n",
    "    return diccionario"
   ]
  },
  {
   "cell_type": "code",
   "execution_count": null,
   "id": "201ae4f510a5cc0a",
   "metadata": {},
   "outputs": [],
   "source": [
    "heap =[]\n",
    "\n",
    "codigos_quito = generar_codigos(encontrar_arbol_huffman(heap, v_estacionario_quito, [\"F\",\"T\",\"C\"]))\n",
    "codigos_melbourne = generar_codigos(encontrar_arbol_huffman(heap, v_estacionario_melbourne, [\"F\",\"T\",\"C\"]))\n",
    "codigos_oslo = generar_codigos(encontrar_arbol_huffman(heap, v_estacionario_oslo, [\"F\",\"T\",\"C\"]))\n",
    "\n",
    "print(\"Codificación Huffman símbolos Quito:\", codigos_quito)\n",
    "print(\"Codificación Huffman símbolos Melbourne:\", codigos_melbourne)\n",
    "print(\"Codificación Huffman símbolos Oslo:\", codigos_oslo)"
   ]
  },
  {
   "cell_type": "markdown",
   "id": "a1be0097c94195a",
   "metadata": {},
   "source": [
    "### Huffman para fuente extendida a 2 símbolos"
   ]
  },
  {
   "cell_type": "code",
   "execution_count": null,
   "id": "5a921a326f460c8c",
   "metadata": {},
   "outputs": [],
   "source": [
    "def extender_fuente(fuente, probabilidades, matriz_transicion):\n",
    "    # Mapear símbolos a índices\n",
    "    fuente_extendida = []\n",
    "    simbolo_a_indice = {simbolo: idx for idx, simbolo in enumerate(fuente)}\n",
    "    \n",
    "    probabilidades_extendidas = []\n",
    "    for s1 in fuente:\n",
    "        for s2 in fuente:\n",
    "            idx_s1 = simbolo_a_indice[s1]\n",
    "            idx_s2 = simbolo_a_indice[s2]\n",
    "            probabilidad = float(probabilidades[idx_s1] * matriz_transicion[idx_s2][idx_s1])\n",
    "            nuevo_simbolo = f\"{s1}{s2}\"\n",
    "            if probabilidad != 0.0:\n",
    "                fuente_extendida.append(nuevo_simbolo)\n",
    "                probabilidades_extendidas.append((nuevo_simbolo, probabilidad))\n",
    "    \n",
    "    return probabilidades_extendidas, fuente_extendida"
   ]
  },
  {
   "cell_type": "code",
   "execution_count": null,
   "id": "e65ca855c1886bcf",
   "metadata": {},
   "outputs": [],
   "source": [
    "fuente = [\"F\", \"T\", \"C\"]\n",
    "\n",
    "prob_extendida_quito, fuente_extendida_quito = extender_fuente(fuente, v_estacionario_quito, m_transicion_quito)\n",
    "prob_extendida_melbourne, fuente_extendida_melbourne = extender_fuente(fuente, v_estacionario_melbourne, m_transicion_melbourne)\n",
    "prob_extendida_oslo, fuente_extendida_oslo = extender_fuente(fuente, v_estacionario_oslo, m_transicion_oslo)\n",
    "print(f\"Probabilidad extendida Quito: {prob_extendida_quito}\")\n",
    "print(f\"Probabilidad extendida Melbourne: {prob_extendida_melbourne}\")\n",
    "print(f\"Probabilidad extendida Oslo: {prob_extendida_oslo}\")"
   ]
  },
  {
   "cell_type": "code",
   "execution_count": null,
   "id": "49aafea8974fb5dd",
   "metadata": {},
   "outputs": [],
   "source": [
    "heap =[]\n",
    "\n",
    "only_prob_extendida_quito = [prob for _, prob in prob_extendida_quito]\n",
    "only_prob_extendida_melbourne = [prob for _, prob in prob_extendida_melbourne]\n",
    "only_prob_extendida_oslo = [prob for _, prob in prob_extendida_oslo]\n",
    "\n",
    "codigos_ext2_quito = generar_codigos(encontrar_arbol_huffman(heap,only_prob_extendida_quito, fuente_extendida_quito))\n",
    "codigos_ext2_melbourne = generar_codigos(encontrar_arbol_huffman(heap,only_prob_extendida_melbourne, fuente_extendida_melbourne))\n",
    "codigos_ext2_oslo = generar_codigos(encontrar_arbol_huffman(heap,only_prob_extendida_oslo, fuente_extendida_oslo))\n",
    "\n",
    "print(\"Codificación Huffman símbolos Quito extendidos:\", codigos_ext2_quito)\n",
    "print(\"Codificación Huffman símbolos Melbourne extendidos:\", codigos_ext2_melbourne)\n",
    "print(\"Codificación Huffman símbolos Oslo extendidos:\", codigos_ext2_oslo)"
   ]
  },
  {
   "cell_type": "markdown",
   "id": "77ecdfa5",
   "metadata": {},
   "source": [
    "### Longitud Media"
   ]
  },
  {
   "cell_type": "code",
   "execution_count": null,
   "id": "419ac90e",
   "metadata": {},
   "outputs": [],
   "source": [
    "def longitud_media(codigos):\n",
    "    long_media = 0\n",
    "\n",
    "    for clave in codigos:\n",
    "        long_media += codigos[clave][1] * len(codigos[clave][0]) # prob * l\n",
    "\n",
    "    return long_media"
   ]
  },
  {
   "cell_type": "code",
   "execution_count": null,
   "id": "e1469d25",
   "metadata": {},
   "outputs": [],
   "source": [
    "long_media_quito = longitud_media(codigos_quito)\n",
    "long_media_melbourne = longitud_media(codigos_melbourne)\n",
    "long_media_oslo = longitud_media(codigos_oslo)\n",
    "\n",
    "print(\"Longitud Media de Quito (sin extender): \", long_media_quito)\n",
    "print(\"Longitud Media de Melbourne (sin extender): \", long_media_melbourne)\n",
    "print(\"Longitud Media de Oslo (sin extender): \", long_media_oslo)"
   ]
  },
  {
   "cell_type": "code",
   "execution_count": null,
   "id": "714df83d",
   "metadata": {},
   "outputs": [],
   "source": [
    "long_media_ext2_quito = longitud_media(codigos_ext2_quito)\n",
    "long_media_ext2_melbourne = longitud_media(codigos_ext2_melbourne)\n",
    "long_media_ext2_oslo = longitud_media(codigos_ext2_oslo)\n",
    "\n",
    "print(\"Longitud Media de Quito (extension a 2 simbolos): \", long_media_ext2_quito)\n",
    "print(\"Longitud Media de Melbourne (extension a 2 simbolos): \", long_media_ext2_melbourne)\n",
    "print(\"Longitud Media de Oslo (extension a 2 simbolos): \", long_media_ext2_oslo)\n",
    "\n",
    "print(codigos_ext2_quito)"
   ]
  },
  {
   "cell_type": "markdown",
   "id": "3c838aea0b2cc1c6",
   "metadata": {},
   "source": [
    "### Verificación del teorema de Shannon"
   ]
  },
  {
   "cell_type": "code",
   "execution_count": null,
   "id": "91a3df3e882a8a3f",
   "metadata": {},
   "outputs": [],
   "source": [
    "# Verificación para la fuente sin extender\n",
    "print(f\"{entropia_quito} <= {long_media_quito} < {entropia_melbourne + 1}\")\n",
    "if entropia_quito <= long_media_quito < (entropia_quito + 1):\n",
    "    print(\"La fuente de la temperatura en la ciudad de Quito cumple con el Teorema de Shannon\")\n",
    "else:\n",
    "    print(\"No cumple con el Teorema de Shannon\")\n",
    "\n",
    "print(f\"{entropia_melbourne} <= {long_media_melbourne} < {entropia_melbourne + 1}\")\n",
    "if entropia_melbourne <= long_media_melbourne < (entropia_melbourne + 1):\n",
    "    print(\"La fuente de la temperatura en la ciudad de Melbourne cumple con el Teorema de Shannon\")\n",
    "else:\n",
    "    print(\"No cumple con el Teorema de Shannon\")\n",
    "\n",
    "\n",
    "print(f\"{entropia_oslo} <= {long_media_oslo} < {entropia_oslo + 1}\")\n",
    "if entropia_oslo <= long_media_oslo < (entropia_oslo + 1):\n",
    "    print(\"La fuente de la temperatura de la ciudad de Oslo cumple con el Teorema de Shannon\")\n",
    "else:\n",
    "    print(\"No cumple con el Teorema de Shannon\")"
   ]
  },
  {
   "cell_type": "code",
   "execution_count": null,
   "id": "16b32943d94f5602",
   "metadata": {},
   "outputs": [],
   "source": [
    "# Verificación para la fuente extendida con memoria de orden 1\n",
    "\n",
    "long_media_simbolo_quito = long_media_ext2_quito/2\n",
    "long_media_simbolo_melbourne = long_media_ext2_melbourne/2\n",
    "long_media_simbolo_oslo = long_media_ext2_oslo/2\n",
    "\n",
    "lim_inferior_quito = entropia_quito/2 + 1/2 * entropia_cond_quito\n",
    "lim_inferior_melbourne = entropia_melbourne/2 + 1/2 * entropia_cond_melbourne\n",
    "lim_inferior_oslo = entropia_oslo/2 + 1/2 * entropia_cond_oslo\n",
    "\n",
    "lim_superior_quito = lim_inferior_quito + 1/2\n",
    "lim_superior_melbourne = lim_inferior_melbourne + 1/2\n",
    "lim_superior_oslo = lim_inferior_oslo + 1/2\n",
    "\n",
    "print(f\"{lim_inferior_quito} <= {long_media_simbolo_quito} < {lim_superior_quito}\")\n",
    "if lim_inferior_quito <= long_media_simbolo_quito < lim_superior_quito:\n",
    "    print(\"La fuente extendida de la temperatura en la ciudad de Quito cumple con el Teorema de Shannon\")\n",
    "else:\n",
    "    print(\"No cumple con el Teorema de Shannon\")\n",
    "    \n",
    "print(f\"{lim_inferior_melbourne} <= {long_media_simbolo_melbourne} < {lim_superior_melbourne}\")\n",
    "if lim_inferior_melbourne <= long_media_simbolo_melbourne < lim_superior_melbourne:\n",
    "    print(\"La fuente extendida de la temperatura en la ciudad de Melbourne cumple con el Teorema de Shannon\")\n",
    "else:\n",
    "    print(\"No cumple con el Teorema de Shannon\")\n",
    "    \n",
    "print(f\"{lim_inferior_oslo} <= {long_media_simbolo_oslo} < {lim_superior_oslo}\")\n",
    "if lim_inferior_oslo <= long_media_simbolo_oslo < lim_superior_oslo:\n",
    "    print(\"La fuente extendida de la temperatura en la ciudad de Melbourne cumple con el Teorema de Shannon\")\n",
    "else:\n",
    "    print(\"No cumple con el Teorema de Shannon\")\n"
   ]
  },
  {
   "cell_type": "markdown",
   "id": "a9c81bd7",
   "metadata": {},
   "source": [
    "## 3. Obtener Tasa de Compresion"
   ]
  },
  {
   "cell_type": "code",
   "execution_count": null,
   "id": "e50c9d39",
   "metadata": {},
   "outputs": [],
   "source": [
    "def hallar_codificacion_final(fuente_alfa, codigos):\n",
    "    codificacion_final = \"\"\n",
    "    for s in fuente_alfa:\n",
    "        codificacion_final += codigos[s][0]\n",
    "\n",
    "    return codificacion_final"
   ]
  },
  {
   "cell_type": "code",
   "execution_count": null,
   "id": "fbd36029",
   "metadata": {},
   "outputs": [],
   "source": [
    "tam_og_quito_bits = len(fuente_quito) * 8\n",
    "tam_og_melbourne_bits = len(fuente_melbourne) * 8\n",
    "tam_og_oslo_bits = len(fuente_oslo) * 8\n",
    "\n",
    "print(\"Tamaño en bits de la fuente Quito original (sin compresión): \", tam_og_quito_bits)\n",
    "print(\"Tamaño en bits de la fuente Melbourne original (sin compresión): \", tam_og_melbourne_bits)\n",
    "print(\"Tamaño en bits de la fuente Oslo original (sin compresión): \", tam_og_oslo_bits)\n",
    "print(\"\")\n",
    "\n",
    "tam_cod_final_quito_bits = len(hallar_codificacion_final(fuente_alfa_quito, codigos_quito)) \n",
    "tam_cod_final_melbourne_bits = len(hallar_codificacion_final(fuente_alfa_melbourne, codigos_melbourne))\n",
    "tam_cod_final_oslo_bits = len(hallar_codificacion_final(fuente_alfa_oslo, codigos_oslo)) \n",
    "\n",
    "print(\"Tamaño en bits de la fuente Quito comprimida: \", tam_cod_final_quito_bits)\n",
    "print(\"Tamaño en bits de la fuente Melbourne comprimida: \", tam_cod_final_melbourne_bits)\n",
    "print(\"Tamaño en bits de la fuente Oslo comprimida: \", tam_cod_final_oslo_bits)\n",
    "print(\"\")\n",
    "\n",
    "tasa_compresion_quito = tam_og_quito_bits / tam_cod_final_quito_bits\n",
    "tasa_compresion_melbourne = tam_og_melbourne_bits / tam_cod_final_melbourne_bits\n",
    "tasa_compresion_oslo = tam_og_oslo_bits / tam_cod_final_oslo_bits\n",
    "\n",
    "print(\"Tasa de compresion Quito: \", int(tasa_compresion_quito),\": 1\")\n",
    "print(\"Tasa de compresion Melbourne: \", int(tasa_compresion_melbourne),\": 1\")\n",
    "print(\"Tasa de compresion Oslo: \", int(tasa_compresion_oslo),\": 1\")"
   ]
  },
  {
   "cell_type": "markdown",
   "id": "a6c7b369",
   "metadata": {},
   "source": [
    "### Fuente extendida"
   ]
  },
  {
   "cell_type": "code",
   "execution_count": null,
   "id": "901bccad",
   "metadata": {},
   "outputs": [],
   "source": [
    "def ext2_hallar_codificacion_final(fuente_alfa, codigos):\n",
    "    codificacion_final = \"\"\n",
    "    for i in range(0, len(fuente_alfa), 2):\n",
    "        clave = fuente_alfa[i] + fuente_alfa[i+1]\n",
    "        codificacion_final += codigos[clave][0]\n",
    "    return codificacion_final"
   ]
  },
  {
   "cell_type": "code",
   "execution_count": null,
   "id": "b6ddaf2f",
   "metadata": {},
   "outputs": [],
   "source": [
    "print(ext2_hallar_codificacion_final(fuente_alfa_quito, codigos_ext2_quito))\n",
    "\n",
    "ext2_tam_cod_final_quito_bits = len(ext2_hallar_codificacion_final(fuente_alfa_quito, codigos_ext2_quito))\n",
    "ext2_tam_cod_final_melbourne_bits = len(ext2_hallar_codificacion_final(fuente_alfa_melbourne, codigos_ext2_melbourne))\n",
    "ext2_tam_cod_final_oslo_bits = len(ext2_hallar_codificacion_final(fuente_alfa_oslo, codigos_ext2_oslo))\n",
    "\n",
    "print(\"Tamaño en bits de la fuente Quito comprimida extension 2: \", ext2_tam_cod_final_quito_bits)\n",
    "print(\"Tamaño en bits de la fuente Melbourne comprimida extension 2: \", ext2_tam_cod_final_melbourne_bits)\n",
    "print(\"Tamaño en bits de la fuente Oslo comprimida extension 2: \", ext2_tam_cod_final_oslo_bits)\n",
    "print(\"\")\n",
    "\n",
    "ext2_tasa_compresion_quito = tam_og_quito_bits / ext2_tam_cod_final_quito_bits\n",
    "ext2_tasa_compresion_melbourne = tam_og_melbourne_bits / ext2_tam_cod_final_melbourne_bits\n",
    "ext2_tasa_compresion_oslo = tam_og_oslo_bits / ext2_tam_cod_final_oslo_bits\n",
    "\n",
    "print(\"Tasa de compresion Quito: \", int(ext2_tasa_compresion_quito),\": 1\")\n",
    "print(\"Tasa de compresion Melbourne: \", int(ext2_tasa_compresion_melbourne),\": 1\")\n",
    "print(\"Tasa de compresion Oslo: \", int(ext2_tasa_compresion_oslo),\": 1\")"
   ]
  },
  {
   "cell_type": "code",
   "execution_count": null,
   "id": "504aeab3",
   "metadata": {},
   "outputs": [],
   "source": [
    "print(len(fuente_alfa_quito))\n",
    "print(fuente_alfa_quito)\n",
    "print(fuente_extendida_quito)\n",
    "print(codigos_ext2_quito)"
   ]
  },
  {
   "cell_type": "markdown",
   "id": "512433b0",
   "metadata": {},
   "source": [
    "# Parte 4: El canal climático de Musk"
   ]
  },
  {
   "cell_type": "markdown",
   "id": "c03ba599",
   "metadata": {},
   "source": [
    "## 1. Generar fuente y Matriz de Canal"
   ]
  },
  {
   "cell_type": "code",
   "execution_count": null,
   "id": "c9d7cffd",
   "metadata": {},
   "outputs": [],
   "source": [
    "archivo='temperature_Melbourne_celsius_ruidoso.csv'\n",
    "valores_melbourne_ruidoso= []\n",
    "with open(archivo, 'r') as archivo:\n",
    "    reader = csv.reader(archivo)\n",
    "    next(reader)  \n",
    "    valores_melbourne_ruidoso = [float(fila[0]) for fila in reader]\n",
    "\n",
    "\n",
    "fuente_melbourne_ruidoso, f_m_alfa = crear_fuente(valores_melbourne_ruidoso)\n",
    "print(fuente_melbourne)\n",
    "print(fuente_melbourne_ruidoso)\n",
    "\n"
   ]
  },
  {
   "cell_type": "code",
   "execution_count": null,
   "id": "2f6fe7dd",
   "metadata": {},
   "outputs": [],
   "source": [
    "def matriz_transicion_dado_dos_canales(fuente_entrada,fuente_salida):\n",
    "    m_transicion = np.zeros((3, 3), dtype=float)\n",
    "\n",
    "    for i in range(0, len(fuente_entrada)):\n",
    "        m_transicion[fuente_salida[i], fuente_entrada[i]] += 1\n",
    "\n",
    "    # Sumar columnas\n",
    "    suma_columnas = [0, 0, 0]\n",
    "    for i in range(3):\n",
    "        for j in range(3):\n",
    "            suma_columnas[j] += m_transicion[i, j]\n",
    "\n",
    "    # Normalizar columnas\n",
    "    for i in range(3):\n",
    "        for j in range(3):\n",
    "            if suma_columnas[j] != 0:\n",
    "                m_transicion[i, j] /= suma_columnas[j]\n",
    "\n",
    "    return m_transicion"
   ]
  },
  {
   "cell_type": "code",
   "execution_count": null,
   "id": "635aa48d",
   "metadata": {},
   "outputs": [],
   "source": [
    "m_transicion_melbourne_ruidoso = matriz_transicion_dado_dos_canales(fuente_melbourne,fuente_melbourne_ruidoso)\n",
    "print(m_transicion_melbourne_ruidoso)"
   ]
  },
  {
   "cell_type": "markdown",
   "id": "f12489ae",
   "metadata": {},
   "source": [
    "## 2. Ruido e Información Mutua"
   ]
  },
  {
   "cell_type": "code",
   "execution_count": null,
   "id": "d54b1048",
   "metadata": {},
   "outputs": [],
   "source": [
    "def ruido(prob_x, vector_hi):\n",
    "    ruido = 0\n",
    "    for i in range(3):\n",
    "        ruido += prob_x[i] * vector_hi[i]\n",
    "    return ruido"
   ]
  },
  {
   "cell_type": "code",
   "execution_count": null,
   "id": "605371d0",
   "metadata": {},
   "outputs": [],
   "source": [
    "vector_hi_melbourne_ruidoso = calcular_hi(m_transicion_melbourne_ruidoso)\n",
    "ruido_melbourne_ruidoso = ruido(v_estacionario_melbourne, vector_hi_melbourne_ruidoso)\n",
    "\n",
    "print(\"Ruido del canal: \", ruido_melbourne_ruidoso)"
   ]
  },
  {
   "cell_type": "markdown",
   "id": "560fa6f1",
   "metadata": {},
   "source": [
    "### Matriz conjunta"
   ]
  },
  {
   "cell_type": "code",
   "execution_count": null,
   "id": "ae0d461c",
   "metadata": {},
   "outputs": [],
   "source": [
    "def matriz_conjunta(prob_x, m_transicion):\n",
    "    m_conjunta = np.zeros((3, 3), dtype=float)\n",
    "\n",
    "    for j in range(3):\n",
    "        for i in range(3):\n",
    "            m_conjunta[i][j] = prob_x[j] * m_transicion[i][j]\n",
    "    \n",
    "    return m_conjunta\n",
    "\n",
    "\n",
    "# Verificación\n",
    "def verificar_m_conjunta(m_conjunta):\n",
    "    suma = 0\n",
    "    for i in range(3):\n",
    "        for j in range(3):\n",
    "            suma += m_conjunta[i][j]\n",
    "\n",
    "    print(suma)"
   ]
  },
  {
   "cell_type": "code",
   "execution_count": null,
   "id": "d99c85eb",
   "metadata": {},
   "outputs": [],
   "source": [
    "m_conjunta_melbourne_ruidoso = matriz_conjunta(v_estacionario_melbourne, m_transicion_melbourne_ruidoso)\n",
    "\n",
    "print(\"Matriz Conjunta de Melbourne Ruidoso: \\n\", m_conjunta_melbourne_ruidoso)\n",
    "verificar_m_conjunta(m_conjunta_melbourne_ruidoso)"
   ]
  },
  {
   "cell_type": "markdown",
   "id": "4b8cd08a",
   "metadata": {},
   "source": [
    "### Hallar P(Y), y luego H(Y)"
   ]
  },
  {
   "cell_type": "code",
   "execution_count": null,
   "id": "eafbbefd",
   "metadata": {},
   "outputs": [],
   "source": [
    "def calcular_py(m_conjunta):\n",
    "    py = [0, 0, 0]\n",
    "    for i in range(3):\n",
    "        for j in range(3):\n",
    "            py[i] += float(m_conjunta[i][j])\n",
    "    return py\n",
    "\n",
    "py_melbourne_ruidoso = calcular_py(m_conjunta_melbourne_ruidoso)\n",
    "print(py_melbourne_ruidoso)\n",
    "\n",
    "hy_melbourne_ruidoso = entropia_sin_mem(py_melbourne_ruidoso)\n",
    "print(hy_melbourne_ruidoso)"
   ]
  },
  {
   "cell_type": "markdown",
   "id": "5d6b5d58",
   "metadata": {},
   "source": [
    "### Información Mutua"
   ]
  },
  {
   "cell_type": "code",
   "execution_count": null,
   "id": "2f79fd6c",
   "metadata": {},
   "outputs": [],
   "source": [
    "# Informacion Mutua = H(y) - H(y/x)\n",
    "info_mutua_melbourne_ruidoso = hy_melbourne_ruidoso - ruido_melbourne_ruidoso\n",
    "\n",
    "print(\"Informacion Mutua del canal de Melbourne: \", info_mutua_melbourne_ruidoso)"
   ]
  }
 ],
 "metadata": {
  "kernelspec": {
   "display_name": ".venv",
   "language": "python",
   "name": "python3"
  },
  "language_info": {
   "codemirror_mode": {
    "name": "ipython",
    "version": 3
   },
   "file_extension": ".py",
   "mimetype": "text/x-python",
   "name": "python",
   "nbconvert_exporter": "python",
   "pygments_lexer": "ipython3",
   "version": "3.12.5"
  }
 },
 "nbformat": 4,
 "nbformat_minor": 5
}

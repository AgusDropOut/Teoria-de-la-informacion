{
 "cells": [
  {
   "cell_type": "markdown",
   "id": "792b4a3a",
   "metadata": {},
   "source": [
    "# Parte 1: Estadísticas para ingenieros que miran el cielo"
   ]
  },
  {
   "cell_type": "markdown",
   "id": "4c7f337f",
   "metadata": {},
   "source": [
    "\n",
    "## 1.1 Promedio y desvio"
   ]
  },
  {
   "cell_type": "markdown",
   "id": "7b2d322e",
   "metadata": {},
   "source": [
    "### Melbourne"
   ]
  },
  {
   "cell_type": "code",
   "id": "f5768fd9",
   "metadata": {},
   "source": [
    "import csv\n",
    "archivo='temperature_Melbourne_celsius.csv'\n",
    "valores_melbourne= []\n",
    "promedio_melbourne = 0.0\n",
    "with open(archivo, 'r') as archivo:\n",
    "    reader = csv.reader(archivo)\n",
    "    next(reader)  \n",
    "    valores_melbourne = [float(fila[0]) for fila in reader]\n",
    "\n",
    "promedio_melbourne = sum(valores_melbourne) / len(valores_melbourne)\n",
    "varianza_melbourne = sum((x - promedio_melbourne)**2 for x in valores_melbourne ) / (len(valores_melbourne) - 1) \n",
    "desvio_melbourne=varianza_melbourne**(0.5)\n",
    "\n",
    "print(\"Promedio:\", promedio_melbourne)\n",
    "print(\"Varianza:\", varianza_melbourne)\n",
    "print(\"Desvio:\", desvio_melbourne)\n"
   ],
   "outputs": [],
   "execution_count": null
  },
  {
   "cell_type": "markdown",
   "id": "2d416e5b",
   "metadata": {},
   "source": [
    "### Oslo"
   ]
  },
  {
   "cell_type": "code",
   "id": "789f41a7",
   "metadata": {},
   "source": [
    "import csv\n",
    "archivo='temperature_Oslo_celsius.csv'\n",
    "valores_oslo= []\n",
    "promedio_oslo = 0.0\n",
    "with open(archivo, 'r') as archivo:\n",
    "    reader = csv.reader(archivo)\n",
    "    next(reader)  \n",
    "    valores_oslo = [float(fila[0]) for fila in reader]\n",
    "\n",
    "promedio_oslo = sum(valores_oslo) / len(valores_oslo)\n",
    "varianza_oslo = sum((x - promedio_oslo)**2 for x in valores_oslo ) / (len(valores_oslo) - 1) \n",
    "desvio_oslo=varianza_oslo**(0.5)\n",
    "\n",
    "print(\"Promedio:\", promedio_oslo)\n",
    "print(\"Varianza:\", varianza_oslo)\n",
    "print(\"Desvio:\", desvio_oslo)"
   ],
   "outputs": [],
   "execution_count": null
  },
  {
   "cell_type": "markdown",
   "id": "7d30b337",
   "metadata": {},
   "source": [
    "### Quito"
   ]
  },
  {
   "cell_type": "code",
   "id": "fdf7ead5",
   "metadata": {},
   "source": [
    "import csv\n",
    "archivo='temperature_Quito_celsius.csv'\n",
    "valores_quito= []\n",
    "promedio_quito = 0.0\n",
    "with open(archivo, 'r') as archivo:\n",
    "    reader = csv.reader(archivo)\n",
    "    next(reader)  \n",
    "    valores_quito = [float(fila[0]) for fila in reader]\n",
    "\n",
    "promedio_quito = sum(valores_quito) / len(valores_quito)\n",
    "varianza_quito = sum((x - promedio_quito)**2 for x in valores_quito ) / (len(valores_quito) - 1) \n",
    "desvio_quito=varianza_quito**(0.5)\n",
    "\n",
    "print(\"Promedio:\", promedio_quito)\n",
    "print(\"Varianza:\", varianza_quito)\n",
    "print(\"Desvio:\", desvio_quito)"
   ],
   "outputs": [],
   "execution_count": null
  },
  {
   "cell_type": "markdown",
   "id": "c194f98d0cf20605",
   "metadata": {},
   "source": [
    "## 1.2 Calcular el factor de correlación cruzada entre cada par de señales"
   ]
  },
  {
   "cell_type": "code",
   "id": "88dccf56",
   "metadata": {},
   "source": [
    "def correlacion_cruzada(valores_A, valores_B, desvio_A, desvio_B, promedio_A, promedio_B):\n",
    "    producto=0\n",
    "    for i in range(0, len(valores_A)):\n",
    "        producto = producto + (valores_A[i] * valores_B[i] - promedio_A * promedio_B)\n",
    "    \n",
    "    cov=(producto)/len(valores_A)\n",
    "\n",
    "    correlacion_A_B = cov / (desvio_A * desvio_B)\n",
    "\n",
    "    print(correlacion_A_B)\n"
   ],
   "outputs": [],
   "execution_count": null
  },
  {
   "cell_type": "markdown",
   "id": "26ef2878",
   "metadata": {},
   "source": [
    "### Melbourne y Oslo"
   ]
  },
  {
   "cell_type": "code",
   "id": "f42aa748",
   "metadata": {},
   "source": [
    "correlacion_cruzada(valores_melbourne, valores_oslo, desvio_melbourne, desvio_oslo, promedio_melbourne, promedio_oslo)"
   ],
   "outputs": [],
   "execution_count": null
  },
  {
   "cell_type": "markdown",
   "id": "47dbedf5",
   "metadata": {},
   "source": [
    "### Melbourne y Quito"
   ]
  },
  {
   "cell_type": "code",
   "id": "74c5e419",
   "metadata": {},
   "source": [
    "correlacion_cruzada(valores_melbourne, valores_quito, desvio_melbourne, desvio_quito, promedio_melbourne, promedio_quito)"
   ],
   "outputs": [],
   "execution_count": null
  },
  {
   "cell_type": "markdown",
   "id": "48187b68",
   "metadata": {},
   "source": [
    "### Oslo y Quito"
   ]
  },
  {
   "cell_type": "code",
   "id": "11210a18",
   "metadata": {},
   "source": [
    "correlacion_cruzada(valores_oslo, valores_quito, desvio_oslo, desvio_quito, promedio_oslo, promedio_quito)"
   ],
   "outputs": [],
   "execution_count": null
  },
  {
   "cell_type": "markdown",
   "id": "8dcae4b5a4003412",
   "metadata": {},
   "source": [
    "Con estos datos podemos decir que las temperaturas en las distintas ciudades no tienen nada que ver una con la otra, el clima de una no nos aporta ninguna información sobre el clima en las otras ciudades"
   ]
  },
  {
   "cell_type": "markdown",
   "id": "899545f4",
   "metadata": {},
   "source": [
    "# Parte 2: Una fuente de calor... markoviana"
   ]
  },
  {
   "cell_type": "code",
   "id": "b83f2c47",
   "metadata": {},
   "source": [
    "def crear_fuente(valores):\n",
    "    fuente = []\n",
    "    for i in valores:\n",
    "        if (i < 11.0):\n",
    "            fuente.append(0)\n",
    "        elif ((i >= 11.0) and (i < 19.0)):\n",
    "            fuente.append(1)\n",
    "        else:\n",
    "            fuente.append(2)\n",
    "    return fuente"
   ],
   "outputs": [],
   "execution_count": null
  },
  {
   "cell_type": "code",
   "id": "4bb4ef09",
   "metadata": {},
   "source": [
    "fuente_quito = crear_fuente(valores_quito)\n",
    "fuente_melbourne = crear_fuente(valores_melbourne)\n",
    "fuente_oslo = crear_fuente(valores_oslo)\n",
    "\n",
    "print(fuente_quito )\n",
    "print(fuente_melbourne)\n",
    "print(fuente_oslo)"
   ],
   "outputs": [],
   "execution_count": null
  },
  {
   "cell_type": "markdown",
   "id": "323dc5e5",
   "metadata": {},
   "source": [
    "## 1. Matrices de transición"
   ]
  },
  {
   "cell_type": "code",
   "id": "598c02fb",
   "metadata": {},
   "source": [
    "import numpy as np\n",
    "\n",
    "def matriz_transicion(fuente):\n",
    "    m_transicion = np.zeros((3, 3), dtype=float)\n",
    "\n",
    "    for i in range(1, len(fuente)):\n",
    "        m_transicion[fuente[i], fuente[i - 1]] += 1\n",
    "\n",
    "    # Sumar columnas\n",
    "    suma_columnas = [0, 0, 0]\n",
    "    for i in range(3):\n",
    "        for j in range(3):\n",
    "            suma_columnas[j] += m_transicion[i, j]\n",
    "\n",
    "    # Normalizar columnas\n",
    "    for i in range(3):\n",
    "        for j in range(3):\n",
    "            if suma_columnas[j] != 0:\n",
    "                m_transicion[i, j] /= suma_columnas[j]\n",
    "\n",
    "    print(\"Matriz de transición:\")\n",
    "    print(m_transicion)\n",
    "    #print(\"Sumas por columna:\")\n",
    "    #print(suma_columnas)\n",
    "    return m_transicion\n"
   ],
   "outputs": [],
   "execution_count": null
  },
  {
   "cell_type": "code",
   "id": "17841ad1",
   "metadata": {},
   "source": [
    "m_transicion_quito = matriz_transicion(fuente_quito)\n",
    "m_transicion_melbourne = matriz_transicion(fuente_melbourne)\n",
    "m_transicion_oslo = matriz_transicion(fuente_oslo)"
   ],
   "outputs": [],
   "execution_count": null
  },
  {
   "cell_type": "markdown",
   "id": "ed3ca2a2",
   "metadata": {},
   "source": [
    "## 2. Muestreo Montecarlo"
   ]
  },
  {
   "cell_type": "markdown",
   "id": "acf6c156",
   "metadata": {},
   "source": [
    "### Probabilidad estacionaria"
   ]
  },
  {
   "cell_type": "markdown",
   "id": "1286c7b4",
   "metadata": {},
   "source": [
    "#### Calculamos la matriz de transicion acumulada "
   ]
  },
  {
   "cell_type": "code",
   "id": "406c7221",
   "metadata": {},
   "source": [
    "def matriz_acumulada(m_transicion):\n",
    "    m_acumulada = np.zeros((3, 3), dtype=float)\n",
    "\n",
    "    for j in range(3):\n",
    "        m_acumulada[0][j] = m_transicion[0, j]\n",
    "\n",
    "    for i in range(1, 3):\n",
    "        for j in range(0, 3):\n",
    "            m_acumulada[i][j] = m_acumulada[i-1][j] + m_transicion[i][j]\n",
    "    \n",
    "    return m_acumulada"
   ],
   "outputs": [],
   "execution_count": null
  },
  {
   "cell_type": "code",
   "id": "31e49433",
   "metadata": {},
   "source": [
    "m_acumulada_quito = matriz_acumulada(m_transicion_quito)\n",
    "m_acumulada_melbourne = matriz_acumulada(m_transicion_melbourne)\n",
    "m_acumulada_oslo = matriz_acumulada(m_transicion_oslo)\n",
    "\n",
    "print(m_acumulada_quito)\n",
    "print(m_acumulada_melbourne)\n",
    "print(m_acumulada_oslo)"
   ],
   "outputs": [],
   "execution_count": null
  },
  {
   "cell_type": "markdown",
   "id": "fa64321f",
   "metadata": {},
   "source": [
    "#### Calculamos las probabilidades del primer simbolo y la probabilidad acumulada"
   ]
  },
  {
   "cell_type": "code",
   "id": "1d543886",
   "metadata": {},
   "source": [
    "def probabilidad_simbolos(fuente):\n",
    "    probabilidad = [0, 0, 0]\n",
    "    for s in fuente:\n",
    "        probabilidad[s] += 1\n",
    "\n",
    "    for i in range(3):\n",
    "        probabilidad[i] = probabilidad[i] / len(fuente)\n",
    "    \n",
    "    return probabilidad"
   ],
   "outputs": [],
   "execution_count": null
  },
  {
   "cell_type": "code",
   "id": "325e1731",
   "metadata": {},
   "source": [
    "prob_quito = probabilidad_simbolos(fuente_quito)\n",
    "prob_melbourne = probabilidad_simbolos(fuente_melbourne)\n",
    "prob_oslo = probabilidad_simbolos(fuente_oslo)\n",
    "\n",
    "print(prob_quito)\n",
    "print(prob_melbourne)\n",
    "print(prob_oslo)"
   ],
   "outputs": [],
   "execution_count": null
  },
  {
   "cell_type": "code",
   "id": "4bdac28d",
   "metadata": {},
   "source": [
    "def probabilidad_simb_acumulada(prob):\n",
    "    prob_acumulada = [0, 0, 0]\n",
    "\n",
    "    prob_acumulada[0] = prob[0]\n",
    "\n",
    "    for i in range (1, 3):\n",
    "        prob_acumulada[i] = prob_acumulada[i-1] + prob[i]\n",
    "\n",
    "    return prob_acumulada"
   ],
   "outputs": [],
   "execution_count": null
  },
  {
   "cell_type": "code",
   "id": "adec078e",
   "metadata": {},
   "source": [
    "prob_acumulada_quito = probabilidad_simb_acumulada(prob_quito)\n",
    "prob_acumulada_melbourne = probabilidad_simb_acumulada(prob_melbourne)\n",
    "prob_acumulada_oslo = probabilidad_simb_acumulada(prob_oslo)\n",
    "\n",
    "print(prob_acumulada_quito)\n",
    "print(prob_acumulada_melbourne)\n",
    "print(prob_acumulada_oslo)"
   ],
   "outputs": [],
   "execution_count": null
  },
  {
   "cell_type": "code",
   "id": "f1889cb1",
   "metadata": {},
   "source": [
    "import random\n",
    "\n",
    "S_MIN = 1000\n",
    "VENTANA_CONVERGENCIA = 50\n",
    "\n",
    "def primer_simb(prob_acum_v0):\n",
    "    r = random.random()\n",
    "    for i in range(3):\n",
    "        if r < prob_acum_v0[i]:\n",
    "            return i\n",
    "\n",
    "def sig_dado_ant(s_ant, m_acumulada):\n",
    "    r = random.random()\n",
    "    for i in range(3):\n",
    "        if r < m_acumulada[i][s_ant]:\n",
    "            return i\n",
    "\n",
    "def converge(A, B):\n",
    "    epsilon = 0.001\n",
    "    for i in range(3):\n",
    "        if abs(A[i] - B[i]) > epsilon:\n",
    "            return False\n",
    "    return True\n",
    "\n",
    "def distancia(v1, v2):\n",
    "    return sum(abs(v1[i] - v2[i]) for i in range(3))\n",
    " \n",
    "def calcular_vector_estacionario(m_acumulada, prob_acum_v0):\n",
    "    emisiones = [0, 0, 0]\n",
    "    V = [0, 0, 0]\n",
    "    V_ant = [-1, -1, -1]\n",
    "    cant_simb = 0\n",
    "    diferencia_vectores = []\n",
    "    iteraciones = []\n",
    "    punto_convergencia = 0\n",
    "    contador_convergencia = 0\n",
    "\n",
    "    s = primer_simb(prob_acum_v0)\n",
    "    \n",
    "    while (contador_convergencia < VENTANA_CONVERGENCIA or cant_simb < S_MIN):\n",
    "        s = sig_dado_ant(s, m_acumulada)\n",
    "        emisiones[s] += 1\n",
    "        cant_simb += 1\n",
    "        V_ant = V.copy()\n",
    "\n",
    "        for i in range(3):\n",
    "            V[i] = emisiones[i] / cant_simb\n",
    "\n",
    "        if converge(V, V_ant):\n",
    "            contador_convergencia += 1\n",
    "            if punto_convergencia == 0 and contador_convergencia >= VENTANA_CONVERGENCIA:\n",
    "                punto_convergencia = cant_simb\n",
    "        else:\n",
    "            contador_convergencia = 0 \n",
    "\n",
    "        diferencia_actual = distancia(V, V_ant)\n",
    "        diferencia_vectores.append(diferencia_actual)\n",
    "        iteraciones.append(cant_simb)\n",
    "\n",
    "    return V, diferencia_vectores, iteraciones, punto_convergencia\n"
   ],
   "outputs": [],
   "execution_count": null
  },
  {
   "cell_type": "code",
   "id": "6e232e00",
   "metadata": {},
   "source": [
    "v_estacionario_quito, diferencia_quito, iteraciones_quito, convergencia_quito  = calcular_vector_estacionario(m_acumulada_quito, prob_acumulada_quito)\n",
    "v_estacionario_melbourne, diferencia_melbourne, iteraciones_melbourne, convergencia_melbourne = calcular_vector_estacionario(m_acumulada_melbourne, prob_acumulada_melbourne)\n",
    "v_estacionario_oslo, diferencia_oslo, iteraciones_oslo, convergencia_oslo = calcular_vector_estacionario(m_acumulada_oslo, prob_acumulada_oslo)\n",
    "\n",
    "print(f\"Vector estacionario para la ciudad de Quito: {v_estacionario_quito}\")\n",
    "print(f\"Valor de convergencia: {convergencia_quito}\")\n",
    "print(\" \")\n",
    "print(f\"Vector estacionario para la ciudad de Melbourne: {v_estacionario_melbourne}\")\n",
    "print(f\"Valor de convergencia: {convergencia_melbourne}\")\n",
    "print(\" \")\n",
    "print(f\"Vector estacionario para la ciudad de Oslo: {v_estacionario_oslo}\")\n",
    "print(f\"Valor de convergencia: {convergencia_oslo}\")"
   ],
   "outputs": [],
   "execution_count": null
  },
  {
   "metadata": {},
   "cell_type": "markdown",
   "source": "Ahora que tenemos tanto los vectores estacionarios, como las diferencias y las iteraciones donde se producen esas diferencias, podemos hacer un gráfico para observar de mejor manera esta convergencia en las probabilidades de los símbolos",
   "id": "8c7cd90989ed8b1d"
  },
  {
   "metadata": {},
   "cell_type": "code",
   "source": [
    "import matplotlib.pyplot as plt\n",
    "import numpy as np\n",
    "\n",
    "def graficar_convergencia(iteraciones, diferencia_vectores, nombre_ciudad, convergencia):\n",
    "    plt.figure(figsize=(10, 6))\n",
    "    plt.plot(iteraciones, diferencia_vectores, label=\"Distancia entre vectores\", color='red', linewidth=1.5)\n",
    "    plt.xlabel('Cantidad de símbolos generados', fontsize=12)\n",
    "    plt.axvline(x=convergencia, linestyle='--', color='green', linewidth=1.5, label=f'Convergencia en {convergencia}')\n",
    "    plt.text(\n",
    "        convergencia,\n",
    "        max(diferencia_vectores)*0.9,\n",
    "        f'{convergencia}',\n",
    "        rotation=90,\n",
    "        va='bottom', ha='right',\n",
    "        fontsize=10,\n",
    "        color='green'\n",
    "    )\n",
    "    plt.yticks(np.arange(0.0, 1.0, 0.05))\n",
    "    plt.xticks(np.arange(0, 1001, 50))\n",
    "    plt.ylabel('Distancia', fontsize=12)\n",
    "    plt.title(f\"Convergencia del Vector Estacionario {nombre_ciudad}\", fontsize=14)\n",
    "    plt.grid(True, linestyle='--', alpha=0.6)\n",
    "    plt.legend(fontsize=11, loc='upper right')\n",
    "    plt.subplots_adjust(top=0.9, bottom=0.1, left=0.1, right=0.9)  # Ajuste manual de márgenes\n",
    "    plt.show()\n"
   ],
   "id": "6a99f8df46f09cf6",
   "outputs": [],
   "execution_count": null
  },
  {
   "metadata": {},
   "cell_type": "code",
   "source": [
    "graficar_convergencia(iteraciones_quito, diferencia_quito, \"Quito\", convergencia_quito)\n",
    "graficar_convergencia(iteraciones_melbourne, diferencia_melbourne, \"Melbourne\", convergencia_melbourne)\n",
    "graficar_convergencia(iteraciones_oslo, diferencia_oslo, \"Oslo\", convergencia_oslo)"
   ],
   "id": "7ce182c72c9a59e1",
   "outputs": [],
   "execution_count": null
  },
  {
   "cell_type": "markdown",
   "id": "095baf22",
   "metadata": {},
   "source": [
    "### Tiempo medio de primera recurrencia"
   ]
  },
  {
   "cell_type": "code",
   "id": "71375bfb",
   "metadata": {},
   "source": [
    "S_MIN = 1000\n",
    "\n",
    "def converge(A, B):\n",
    "    epsilon = 0.05\n",
    "    if abs(A - B) > epsilon:\n",
    "        return False\n",
    "    return True\n",
    "\n",
    "def sig_dado_ant(s_ant, m_acumulada):\n",
    "    r = random.random()\n",
    "    for i in range(3):\n",
    "        if r < m_acumulada[i][s_ant]:\n",
    "            return i\n",
    "\n",
    "\n",
    "def Media_recurrencia(simbolo,m_acumulada):\n",
    "    retornos=0\n",
    "    media=0\n",
    "    media_ant=-1\n",
    "    t_actual=0\n",
    "    s=simbolo\n",
    "    while (not converge(media,media_ant)or (t_actual<S_MIN)):\n",
    "        s=sig_dado_ant(s,m_acumulada)\n",
    "        t_actual+=1\n",
    "        if(s==simbolo):\n",
    "            retornos+=1\n",
    "            media_ant=media\n",
    "            media=t_actual/retornos\n",
    "\n",
    "    return media"
   ],
   "outputs": []
  },
  {
   "cell_type": "markdown",
   "id": "e0b6fd83",
   "metadata": {},
   "source": [
    "# Parte 3: Entropía, Huffman y la batalla por los bits"
   ]
  },
  {
   "cell_type": "markdown",
   "id": "ca1ebe56",
   "metadata": {},
   "source": [
    "## 1. Entropía de cada fuente\n"
   ]
  },
  {
   "cell_type": "markdown",
   "id": "4451b63a",
   "metadata": {},
   "source": [
    "### Sin memoria"
   ]
  },
  {
   "cell_type": "code",
   "execution_count": null,
   "id": "237772ec",
   "metadata": {},
   "outputs": [],
   "source": [
    "import math\n",
    "\n",
    "def entropia_sin_mem(prob):\n",
    "    entropia = 0\n",
    "    for i in range(len(prob)):\n",
    "        entropia += - prob[i] * math.log2(prob[i])\n",
    "    return entropia"
   ]
  },
  {
   "cell_type": "code",
   "execution_count": null,
   "id": "bcf81938",
   "metadata": {},
   "outputs": [],
   "source": [
    "sm_entropia_quito = entropia_sin_mem(v_estacionario_quito)\n",
    "sm_entropia_melbourne = entropia_sin_mem(v_estacionario_melbourne)\n",
    "sm_entropia_oslo = entropia_sin_mem(v_estacionario_oslo)\n",
    "\n",
    "print(sm_entropia_quito)\n",
    "print(sm_entropia_melbourne)\n",
    "print(sm_entropia_oslo)"
   ]
  },
  {
   "cell_type": "markdown",
   "id": "cfd5eb4e",
   "metadata": {},
   "source": [
    "### Con memoria"
   ]
  },
  {
   "cell_type": "code",
   "execution_count": null,
   "id": "dd5bd8b7",
   "metadata": {},
   "outputs": [],
   "source": [
    "def h(m_transicion):\n",
    "    h = [0, 0, 0]\n",
    "    for i in range(3):\n",
    "        for j in range(3):\n",
    "            h[j] += - m_transicion[i][j] * math.log2( m_transicion[i][j] )\n",
    "    print(h)\n",
    "\n",
    "h(m_transicion_quito)\n"
   ]
  },
  {
   "cell_type": "code",
   "execution_count": null,
   "id": "72d2d19f",
   "metadata": {},
   "outputs": [],
   "source": [
    "def entropia_con_mem(prob, h):\n",
    "    entropia = 0;\n",
    "    for i in range(len(prob)):\n",
    "        entropia += prob[i] * h[i]\n",
    "    return entropia"
   ]
  },
  {
   "metadata": {},
   "cell_type": "markdown",
   "source": "### Media de recurrencia para simbolos F,T,C Quito",
   "id": "e5ff97548815a3ee"
  },
  {
   "metadata": {},
   "cell_type": "code",
   "source": [
    "print(\"Media de primera recurrencia para simbolo F \"+str(Media_recurrencia(0,m_acumulada_quito)))\n",
    "print(\"Media de primera recurrencia para simbolo T \"+str(Media_recurrencia(1,m_acumulada_quito)))\n",
    "print(\"Media de primera recurrencia para simbolo C \"+str(Media_recurrencia(2,m_acumulada_quito)))"
   ],
   "id": "813d35af74dee4a6",
   "outputs": [],
   "execution_count": null
  },
  {
   "metadata": {},
   "cell_type": "markdown",
   "source": "### Media de recurrencia para simbolos F,T,C Melborne",
   "id": "e7eee7ace18af141"
  },
  {
   "metadata": {},
   "cell_type": "code",
   "source": [
    "print(\"Media de primera recurrencia para simbolo F \"+str(Media_recurrencia(0,m_acumulada_melbourne)))\n",
    "print(\"Media de primera recurrencia para simbolo T \"+str(Media_recurrencia(1,m_acumulada_melbourne)))\n",
    "print(\"Media de primera recurrencia para simbolo C \"+str(Media_recurrencia(2,m_acumulada_melbourne)))"
   ],
   "id": "1a1889aacb26718e",
   "outputs": [],
   "execution_count": null
  },
  {
   "metadata": {},
   "cell_type": "markdown",
   "source": "### Media de recurrencia para simbolos F,T,C Oslo",
   "id": "53de9baf327fd1f5"
  },
  {
   "metadata": {},
   "cell_type": "code",
   "source": [
    "print(\"Media de primera recurrencia para simbolo F: \"+str(Media_recurrencia(0,m_acumulada_oslo)))\n",
    "print(\"Media de primera recurrencia para simbolo T: \"+str(Media_recurrencia(1,m_acumulada_oslo)))\n",
    "print(\"Media de primera recurrencia para simbolo C: \"+str(Media_recurrencia(2,m_acumulada_oslo)))"
   ],
   "id": "4766112bb3a1d4ed",
   "outputs": [],
   "execution_count": null
  },
  {
   "metadata": {},
   "cell_type": "code",
   "source": [
    "import heapq\n",
    "\n",
    "class Nodo:\n",
    "    def __init__(self, probabilidad, izq=None, der=None):\n",
    "        self.probabilidad = probabilidad\n",
    "        self.nodo_izq = izq\n",
    "        self.nodo_der = der\n",
    "\n",
    "    def __lt__(self, other):\n",
    "        return self.probabilidad < other.probabilidad\n",
    "\n",
    "class Nodo_hoja(Nodo):\n",
    "    def __init__(self, simbolo, probabilidad):\n",
    "        super().__init__(probabilidad)\n",
    "        self.simbolo = simbolo\n",
    "\n",
    "def insertar_nodos_hoja(min_heap_nodos, lista_prob, lista_simbolos):\n",
    "    for i in range(len(lista_prob)):\n",
    "        n = Nodo_hoja(lista_simbolos[i], lista_prob[i])\n",
    "        heapq.heappush(min_heap_nodos, n)\n",
    "\n",
    "def encontrar_arbol_huffman(min_heap_nodos, lista_prob, lista_simbolos):\n",
    "    insertar_nodos_hoja(min_heap_nodos, lista_prob, lista_simbolos)\n",
    "    while len(min_heap_nodos) > 1:\n",
    "        min1 = heapq.heappop(min_heap_nodos)\n",
    "        min2 = heapq.heappop(min_heap_nodos)\n",
    "        suma_minimos = min1.probabilidad + min2.probabilidad\n",
    "        nodo_suma = Nodo(suma_minimos, min1, min2)\n",
    "        heapq.heappush(min_heap_nodos, nodo_suma)\n",
    "    return heapq.heappop(min_heap_nodos)  \n",
    "\n",
    "def generar_codigos(nodo, codigo_actual=\"\", diccionario=None):\n",
    "    if diccionario is None:\n",
    "        diccionario = {}\n",
    "\n",
    "    if isinstance(nodo, Nodo_hoja):  # Es una hoja, asignar código\n",
    "        diccionario[nodo.simbolo] = codigo_actual\n",
    "    else:\n",
    "        # Ir a la izquierda → agregar '0'\n",
    "        if nodo.nodo_izq:\n",
    "            generar_codigos(nodo.nodo_izq, codigo_actual + \"0\", diccionario)\n",
    "        # Ir a la derecha → agregar '1'\n",
    "        if nodo.nodo_der:\n",
    "            generar_codigos(nodo.nodo_der, codigo_actual + \"1\", diccionario)\n",
    "\n",
    "    return diccionario\n",
    "heap =[]\n",
    "print(generar_codigos(encontrar_arbol_huffman(heap,prob_melbourne, [\"F\",\"T\",\"C\"])))\n"
   ],
   "id": "320af5ad8c00dbe3",
   "outputs": [],
   "execution_count": null
  }
 ],
 "metadata": {
  "kernelspec": {
   "display_name": "Python 3.12 (tpTeoria)",
   "language": "python",
   "name": "tpteoria"
  },
  "language_info": {
   "codemirror_mode": {
    "name": "ipython",
    "version": 3
   },
   "file_extension": ".py",
   "mimetype": "text/x-python",
   "name": "python",
   "nbconvert_exporter": "python",
   "pygments_lexer": "ipython3",
   "version": "3.12.5"
  }
 },
 "nbformat": 4,
 "nbformat_minor": 5
}

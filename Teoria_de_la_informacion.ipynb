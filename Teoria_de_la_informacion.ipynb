{
 "cells": [
  {
   "cell_type": "markdown",
   "id": "792b4a3a",
   "metadata": {},
   "source": [
    "# Parte 1: Estadísticas para ingenieros que miran el cielo"
   ]
  },
  {
   "cell_type": "markdown",
   "id": "4c7f337f",
   "metadata": {},
   "source": [
    "\n",
    "## 1.1 Promedio y desvio"
   ]
  },
  {
   "cell_type": "markdown",
   "id": "7b2d322e",
   "metadata": {},
   "source": [
    "### Melbourne"
   ]
  },
  {
   "cell_type": "code",
   "id": "f5768fd9",
   "metadata": {
    "ExecuteTime": {
     "end_time": "2025-06-13T20:49:30.149823Z",
     "start_time": "2025-06-13T20:49:30.138017Z"
    }
   },
   "source": [
    "import csv\n",
    "archivo='temperature_Melbourne_celsius.csv'\n",
    "valores_melbourne= []\n",
    "promedio_melbourne = 0.0\n",
    "with open(archivo, 'r') as archivo:\n",
    "    reader = csv.reader(archivo)\n",
    "    next(reader)  \n",
    "    valores_melbourne = [float(fila[0]) for fila in reader]\n",
    "\n",
    "promedio_melbourne = sum(valores_melbourne) / len(valores_melbourne)\n",
    "varianza_melbourne = sum((x - promedio_melbourne)**2 for x in valores_melbourne ) / (len(valores_melbourne) - 1) \n",
    "desvio_melbourne=varianza_melbourne**(0.5)\n",
    "\n",
    "print(\"Promedio:\", promedio_melbourne)\n",
    "print(\"Varianza:\", varianza_melbourne)\n",
    "print(\"Desvio:\", desvio_melbourne)\n"
   ],
   "outputs": [
    {
     "name": "stdout",
     "output_type": "stream",
     "text": [
      "Promedio: 17.53388090349076\n",
      "Varianza: 41.96000198204841\n",
      "Desvio: 6.477654049271882\n"
     ]
    }
   ],
   "execution_count": 38
  },
  {
   "cell_type": "markdown",
   "id": "2d416e5b",
   "metadata": {},
   "source": [
    "### Oslo"
   ]
  },
  {
   "cell_type": "code",
   "id": "789f41a7",
   "metadata": {
    "ExecuteTime": {
     "end_time": "2025-06-13T20:49:30.178092Z",
     "start_time": "2025-06-13T20:49:30.167480Z"
    }
   },
   "source": [
    "import csv\n",
    "archivo='temperature_Oslo_celsius.csv'\n",
    "valores_oslo= []\n",
    "promedio_oslo = 0.0\n",
    "with open(archivo, 'r') as archivo:\n",
    "    reader = csv.reader(archivo)\n",
    "    next(reader)  \n",
    "    valores_oslo = [float(fila[0]) for fila in reader]\n",
    "\n",
    "promedio_oslo = sum(valores_oslo) / len(valores_oslo)\n",
    "varianza_oslo = sum((x - promedio_oslo)**2 for x in valores_oslo ) / (len(valores_oslo) - 1) \n",
    "desvio_oslo=varianza_oslo**(0.5)\n",
    "\n",
    "print(\"Promedio:\", promedio_oslo)\n",
    "print(\"Varianza:\", varianza_oslo)\n",
    "print(\"Desvio:\", desvio_oslo)"
   ],
   "outputs": [
    {
     "name": "stdout",
     "output_type": "stream",
     "text": [
      "Promedio: 4.611225188227242\n",
      "Varianza: 89.52365285429613\n",
      "Desvio: 9.461693973823934\n"
     ]
    }
   ],
   "execution_count": 39
  },
  {
   "cell_type": "markdown",
   "id": "7d30b337",
   "metadata": {},
   "source": [
    "### Quito"
   ]
  },
  {
   "cell_type": "code",
   "id": "fdf7ead5",
   "metadata": {
    "ExecuteTime": {
     "end_time": "2025-06-13T20:49:30.216701Z",
     "start_time": "2025-06-13T20:49:30.204955Z"
    }
   },
   "source": [
    "import csv\n",
    "archivo='temperature_Quito_celsius.csv'\n",
    "valores_quito= []\n",
    "promedio_quito = 0.0\n",
    "with open(archivo, 'r') as archivo:\n",
    "    reader = csv.reader(archivo)\n",
    "    next(reader)  \n",
    "    valores_quito = [float(fila[0]) for fila in reader]\n",
    "\n",
    "promedio_quito = sum(valores_quito) / len(valores_quito)\n",
    "varianza_quito = sum((x - promedio_quito)**2 for x in valores_quito ) / (len(valores_quito) - 1) \n",
    "desvio_quito=varianza_quito**(0.5)\n",
    "\n",
    "print(\"Promedio:\", promedio_quito)\n",
    "print(\"Varianza:\", varianza_quito)\n",
    "print(\"Desvio:\", desvio_quito)"
   ],
   "outputs": [
    {
     "name": "stdout",
     "output_type": "stream",
     "text": [
      "Promedio: 13.603524982888432\n",
      "Varianza: 1.6943979779826284\n",
      "Desvio: 1.3016904309330342\n"
     ]
    }
   ],
   "execution_count": 40
  },
  {
   "cell_type": "markdown",
   "id": "c194f98d0cf20605",
   "metadata": {},
   "source": [
    "## 1.2 Calcular el factor de correlación cruzada entre cada par de señales"
   ]
  },
  {
   "cell_type": "code",
   "id": "88dccf56",
   "metadata": {
    "ExecuteTime": {
     "end_time": "2025-06-13T20:49:30.258240Z",
     "start_time": "2025-06-13T20:49:30.251091Z"
    }
   },
   "source": [
    "def correlacion_cruzada(valores_A, valores_B, desvio_A, desvio_B, promedio_A, promedio_B):\n",
    "    producto=0\n",
    "    for i in range(0, len(valores_A)):\n",
    "        producto = producto + (valores_A[i] * valores_B[i] - promedio_A * promedio_B)\n",
    "    \n",
    "    cov=(producto)/len(valores_A)\n",
    "\n",
    "    correlacion_A_B = cov / (desvio_A * desvio_B)\n",
    "\n",
    "    print(correlacion_A_B)\n"
   ],
   "outputs": [],
   "execution_count": 41
  },
  {
   "cell_type": "markdown",
   "id": "26ef2878",
   "metadata": {},
   "source": [
    "### Melbourne y oslo"
   ]
  },
  {
   "cell_type": "code",
   "id": "f42aa748",
   "metadata": {
    "ExecuteTime": {
     "end_time": "2025-06-13T20:49:30.291276Z",
     "start_time": "2025-06-13T20:49:30.286282Z"
    }
   },
   "source": [
    "correlacion_cruzada(valores_melbourne, valores_oslo, desvio_melbourne, desvio_oslo, promedio_melbourne, promedio_oslo)"
   ],
   "outputs": [
    {
     "name": "stdout",
     "output_type": "stream",
     "text": [
      "-0.22128773176900715\n"
     ]
    }
   ],
   "execution_count": 42
  },
  {
   "cell_type": "markdown",
   "id": "47dbedf5",
   "metadata": {},
   "source": [
    "### Melbourne y Quito"
   ]
  },
  {
   "cell_type": "code",
   "id": "74c5e419",
   "metadata": {
    "ExecuteTime": {
     "end_time": "2025-06-13T20:49:30.409716Z",
     "start_time": "2025-06-13T20:49:30.404222Z"
    }
   },
   "source": [
    "correlacion_cruzada(valores_melbourne, valores_quito, desvio_melbourne, desvio_quito, promedio_melbourne, promedio_quito)"
   ],
   "outputs": [
    {
     "name": "stdout",
     "output_type": "stream",
     "text": [
      "-0.05331188809647593\n"
     ]
    }
   ],
   "execution_count": 43
  },
  {
   "cell_type": "markdown",
   "id": "48187b68",
   "metadata": {},
   "source": [
    "### Oslo y Quito"
   ]
  },
  {
   "cell_type": "code",
   "id": "11210a18",
   "metadata": {
    "ExecuteTime": {
     "end_time": "2025-06-13T20:49:30.539530Z",
     "start_time": "2025-06-13T20:49:30.533455Z"
    }
   },
   "source": [
    "correlacion_cruzada(valores_oslo, valores_quito, desvio_oslo, desvio_quito, promedio_oslo, promedio_quito)"
   ],
   "outputs": [
    {
     "name": "stdout",
     "output_type": "stream",
     "text": [
      "0.06617787220981441\n"
     ]
    }
   ],
   "execution_count": 44
  },
  {
   "metadata": {},
   "cell_type": "markdown",
   "source": "Con estos datos podemos decir que las temperaturas en las distintas ciudades no tienen nada que ver una con la otra, el clima de una no nos aporta ninguna información sobre el clima en las otras ciudades",
   "id": "8dcae4b5a4003412"
  }
 ],
 "metadata": {
  "kernelspec": {
   "display_name": ".venv",
   "language": "python",
   "name": "python3"
  },
  "language_info": {
   "codemirror_mode": {
    "name": "ipython",
    "version": 3
   },
   "file_extension": ".py",
   "mimetype": "text/x-python",
   "name": "python",
   "nbconvert_exporter": "python",
   "pygments_lexer": "ipython3",
   "version": "3.12.5"
  }
 },
 "nbformat": 4,
 "nbformat_minor": 5
}

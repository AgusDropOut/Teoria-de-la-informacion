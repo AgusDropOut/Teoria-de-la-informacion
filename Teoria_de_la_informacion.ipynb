{
 "cells": [
  {
   "cell_type": "markdown",
   "id": "792b4a3a",
   "metadata": {},
   "source": [
    "# Parte 1: Estadísticas para ingenieros que miran el cielo"
   ]
  },
  {
   "cell_type": "markdown",
   "id": "4c7f337f",
   "metadata": {},
   "source": [
    "\n",
    "## 1.1 Promedio y desvio"
   ]
  },
  {
   "cell_type": "markdown",
   "id": "7b2d322e",
   "metadata": {},
   "source": [
    "### Melbourne"
   ]
  },
  {
   "cell_type": "code",
   "execution_count": null,
   "id": "f5768fd9",
   "metadata": {
    "ExecuteTime": {
     "end_time": "2025-06-13T20:49:30.149823Z",
     "start_time": "2025-06-13T20:49:30.138017Z"
    }
   },
   "outputs": [],
   "source": [
    "import csv\n",
    "archivo='temperature_Melbourne_celsius.csv'\n",
    "valores_melbourne= []\n",
    "promedio_melbourne = 0.0\n",
    "with open(archivo, 'r') as archivo:\n",
    "    reader = csv.reader(archivo)\n",
    "    next(reader)  \n",
    "    valores_melbourne = [float(fila[0]) for fila in reader]\n",
    "\n",
    "promedio_melbourne = sum(valores_melbourne) / len(valores_melbourne)\n",
    "varianza_melbourne = sum((x - promedio_melbourne)**2 for x in valores_melbourne ) / (len(valores_melbourne) - 1) \n",
    "desvio_melbourne=varianza_melbourne**(0.5)\n",
    "\n",
    "print(\"Promedio:\", promedio_melbourne)\n",
    "print(\"Varianza:\", varianza_melbourne)\n",
    "print(\"Desvio:\", desvio_melbourne)\n"
   ]
  },
  {
   "cell_type": "markdown",
   "id": "2d416e5b",
   "metadata": {},
   "source": [
    "### Oslo"
   ]
  },
  {
   "cell_type": "code",
   "execution_count": null,
   "id": "789f41a7",
   "metadata": {
    "ExecuteTime": {
     "end_time": "2025-06-13T20:49:30.178092Z",
     "start_time": "2025-06-13T20:49:30.167480Z"
    }
   },
   "outputs": [],
   "source": [
    "import csv\n",
    "archivo='temperature_Oslo_celsius.csv'\n",
    "valores_oslo= []\n",
    "promedio_oslo = 0.0\n",
    "with open(archivo, 'r') as archivo:\n",
    "    reader = csv.reader(archivo)\n",
    "    next(reader)  \n",
    "    valores_oslo = [float(fila[0]) for fila in reader]\n",
    "\n",
    "promedio_oslo = sum(valores_oslo) / len(valores_oslo)\n",
    "varianza_oslo = sum((x - promedio_oslo)**2 for x in valores_oslo ) / (len(valores_oslo) - 1) \n",
    "desvio_oslo=varianza_oslo**(0.5)\n",
    "\n",
    "print(\"Promedio:\", promedio_oslo)\n",
    "print(\"Varianza:\", varianza_oslo)\n",
    "print(\"Desvio:\", desvio_oslo)"
   ]
  },
  {
   "cell_type": "markdown",
   "id": "7d30b337",
   "metadata": {},
   "source": [
    "### Quito"
   ]
  },
  {
   "cell_type": "code",
   "execution_count": null,
   "id": "fdf7ead5",
   "metadata": {
    "ExecuteTime": {
     "end_time": "2025-06-13T20:49:30.216701Z",
     "start_time": "2025-06-13T20:49:30.204955Z"
    }
   },
   "outputs": [],
   "source": [
    "import csv\n",
    "archivo='temperature_Quito_celsius.csv'\n",
    "valores_quito= []\n",
    "promedio_quito = 0.0\n",
    "with open(archivo, 'r') as archivo:\n",
    "    reader = csv.reader(archivo)\n",
    "    next(reader)  \n",
    "    valores_quito = [float(fila[0]) for fila in reader]\n",
    "\n",
    "promedio_quito = sum(valores_quito) / len(valores_quito)\n",
    "varianza_quito = sum((x - promedio_quito)**2 for x in valores_quito ) / (len(valores_quito) - 1) \n",
    "desvio_quito=varianza_quito**(0.5)\n",
    "\n",
    "print(\"Promedio:\", promedio_quito)\n",
    "print(\"Varianza:\", varianza_quito)\n",
    "print(\"Desvio:\", desvio_quito)"
   ]
  },
  {
   "cell_type": "markdown",
   "id": "c194f98d0cf20605",
   "metadata": {},
   "source": [
    "## 1.2 Calcular el factor de correlación cruzada entre cada par de señales"
   ]
  },
  {
   "cell_type": "code",
   "execution_count": null,
   "id": "88dccf56",
   "metadata": {
    "ExecuteTime": {
     "end_time": "2025-06-13T20:49:30.258240Z",
     "start_time": "2025-06-13T20:49:30.251091Z"
    }
   },
   "outputs": [],
   "source": [
    "def correlacion_cruzada(valores_A, valores_B, desvio_A, desvio_B, promedio_A, promedio_B):\n",
    "    producto=0\n",
    "    for i in range(0, len(valores_A)):\n",
    "        producto = producto + (valores_A[i] * valores_B[i] - promedio_A * promedio_B)\n",
    "    \n",
    "    cov=(producto)/len(valores_A)\n",
    "\n",
    "    correlacion_A_B = cov / (desvio_A * desvio_B)\n",
    "\n",
    "    print(correlacion_A_B)\n"
   ]
  },
  {
   "cell_type": "markdown",
   "id": "26ef2878",
   "metadata": {},
   "source": [
    "### Melbourne y Oslo"
   ]
  },
  {
   "cell_type": "code",
   "execution_count": null,
   "id": "f42aa748",
   "metadata": {
    "ExecuteTime": {
     "end_time": "2025-06-13T20:49:30.291276Z",
     "start_time": "2025-06-13T20:49:30.286282Z"
    }
   },
   "outputs": [],
   "source": [
    "correlacion_cruzada(valores_melbourne, valores_oslo, desvio_melbourne, desvio_oslo, promedio_melbourne, promedio_oslo)"
   ]
  },
  {
   "cell_type": "markdown",
   "id": "47dbedf5",
   "metadata": {},
   "source": [
    "### Melbourne y Quito"
   ]
  },
  {
   "cell_type": "code",
   "execution_count": null,
   "id": "74c5e419",
   "metadata": {
    "ExecuteTime": {
     "end_time": "2025-06-13T20:49:30.409716Z",
     "start_time": "2025-06-13T20:49:30.404222Z"
    }
   },
   "outputs": [],
   "source": [
    "correlacion_cruzada(valores_melbourne, valores_quito, desvio_melbourne, desvio_quito, promedio_melbourne, promedio_quito)"
   ]
  },
  {
   "cell_type": "markdown",
   "id": "48187b68",
   "metadata": {},
   "source": [
    "### Oslo y Quito"
   ]
  },
  {
   "cell_type": "code",
   "execution_count": null,
   "id": "11210a18",
   "metadata": {
    "ExecuteTime": {
     "end_time": "2025-06-13T20:49:30.539530Z",
     "start_time": "2025-06-13T20:49:30.533455Z"
    }
   },
   "outputs": [],
   "source": [
    "correlacion_cruzada(valores_oslo, valores_quito, desvio_oslo, desvio_quito, promedio_oslo, promedio_quito)"
   ]
  },
  {
   "cell_type": "markdown",
   "id": "8dcae4b5a4003412",
   "metadata": {},
   "source": [
    "Con estos datos podemos decir que las temperaturas en las distintas ciudades no tienen nada que ver una con la otra, el clima de una no nos aporta ninguna información sobre el clima en las otras ciudades"
   ]
  },
  {
   "cell_type": "markdown",
   "id": "899545f4",
   "metadata": {},
   "source": [
    "# Parte 2: Una fuente de calor... markoviana"
   ]
  },
  {
   "cell_type": "code",
   "execution_count": null,
   "id": "b83f2c47",
   "metadata": {},
   "outputs": [],
   "source": [
    "def crear_fuente(valores):\n",
    "    fuente = []\n",
    "    for i in valores:\n",
    "        if (i < 11.0):\n",
    "            fuente.append(0)\n",
    "        elif ((i >= 11.0) and (i < 19.0)):\n",
    "            fuente.append(1)\n",
    "        else:\n",
    "            fuente.append(2)\n",
    "    return fuente"
   ]
  },
  {
   "cell_type": "code",
   "execution_count": null,
   "id": "4bb4ef09",
   "metadata": {},
   "outputs": [],
   "source": [
    "fuente_quito = crear_fuente(valores_quito)\n",
    "fuente_melbourne = crear_fuente(valores_melbourne)\n",
    "fuente_oslo = crear_fuente(valores_oslo)\n",
    "\n",
    "print(fuente_quito )\n",
    "print(fuente_melbourne)\n",
    "print(fuente_oslo)"
   ]
  },
  {
   "cell_type": "code",
   "execution_count": null,
   "id": "5c1c1458",
   "metadata": {},
   "outputs": [],
   "source": [
    "\"\"\"\n",
    "import numpy as np\n",
    "\n",
    "m_transicion_melbourne = np.zeros((3, 3), dtype=float)\n",
    "\n",
    "for i in range(1, len(fuente_melbourne)):\n",
    "    m_transicion_melbourne[fuente_melbourne[i], fuente_melbourne[i - 1]] += 1\n",
    "\n",
    "# Sumar columnas\n",
    "suma_columnas = [0, 0, 0]\n",
    "for i in range(3):\n",
    "    for j in range(3):\n",
    "        suma_columnas[j] += m_transicion_melbourne[i, j]\n",
    "\n",
    "# Normalizar columnas\n",
    "for i in range(3):\n",
    "    for j in range(3):\n",
    "        if suma_columnas[j] != 0:\n",
    "            m_transicion_melbourne[i, j] /= suma_columnas[j]\n",
    "\n",
    "print(\"Matriz de transición:\")\n",
    "print(m_transicion_melbourne)\n",
    "print(\"Sumas por columna:\")\n",
    "print(suma_columnas) \n",
    "\n",
    "\"\"\""
   ]
  },
  {
   "cell_type": "code",
   "execution_count": null,
   "id": "598c02fb",
   "metadata": {},
   "outputs": [],
   "source": [
    "import numpy as np\n",
    "\n",
    "def matriz_transicion(fuente):\n",
    "    m_transicion = np.zeros((3, 3), dtype=float)\n",
    "\n",
    "    for i in range(1, len(fuente)):\n",
    "        m_transicion[fuente[i], fuente[i - 1]] += 1\n",
    "\n",
    "    # Sumar columnas\n",
    "    suma_columnas = [0, 0, 0]\n",
    "    for i in range(3):\n",
    "        for j in range(3):\n",
    "            suma_columnas[j] += m_transicion[i, j]\n",
    "\n",
    "    # Normalizar columnas\n",
    "    for i in range(3):\n",
    "        for j in range(3):\n",
    "            if suma_columnas[j] != 0:\n",
    "                m_transicion[i, j] /= suma_columnas[j]\n",
    "\n",
    "    print(\"Matriz de transición:\")\n",
    "    print(m_transicion)\n",
    "    #print(\"Sumas por columna:\")\n",
    "    #print(suma_columnas)\n",
    "    return m_transicion\n"
   ]
  },
  {
   "cell_type": "code",
   "execution_count": null,
   "id": "17841ad1",
   "metadata": {},
   "outputs": [],
   "source": [
    "m_transicion_quito = matriz_transicion(fuente_quito)\n",
    "m_transicion_melbourne = matriz_transicion(fuente_melbourne)\n",
    "m_transicion_oslo = matriz_transicion(fuente_oslo)"
   ]
  }
 ],
 "metadata": {
  "kernelspec": {
   "display_name": ".venv",
   "language": "python",
   "name": "python3"
  },
  "language_info": {
   "codemirror_mode": {
    "name": "ipython",
    "version": 3
   },
   "file_extension": ".py",
   "mimetype": "text/x-python",
   "name": "python",
   "nbconvert_exporter": "python",
   "pygments_lexer": "ipython3",
   "version": "3.12.5"
  }
 },
 "nbformat": 4,
 "nbformat_minor": 5
}

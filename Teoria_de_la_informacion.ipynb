{
 "cells": [
  {
   "cell_type": "markdown",
   "id": "792b4a3a",
   "metadata": {},
   "source": [
    "# Parte 1: Estadísticas para ingenieros que miran el cielo"
   ]
  },
  {
   "cell_type": "markdown",
   "id": "4c7f337f",
   "metadata": {},
   "source": [
    "\n",
    "## 1.1 Promedio y desvio"
   ]
  },
  {
   "cell_type": "markdown",
   "id": "7b2d322e",
   "metadata": {},
   "source": [
    "### Melbourne"
   ]
  },
  {
   "cell_type": "code",
   "execution_count": null,
   "id": "f5768fd9",
   "metadata": {},
   "outputs": [],
   "source": [
    "import csv\n",
    "import statistics\n",
    "archivo_melbourne='temperature_Melbourne_celsius.csv'\n",
    "valores= []\n",
    "promedio_melbourne = 0.0\n",
    "with open(archivo_melbourne, 'r') as archivo:\n",
    "    reader = csv.reader(archivo)\n",
    "    next(reader)  \n",
    "    valores = [float(fila[0]) for fila in reader]\n",
    "\n",
    "promedio = sum(valores) / len(valores)\n",
    "varianza = sum((x - promedio)**2 for x in valores ) / (len(valores) - 1) \n",
    "desvio=varianza**-2\n",
    "\n",
    "print(promedio)\n",
    "print(varianza)\n",
    "print(desvio)\n"
   ]
  },
  {
   "cell_type": "markdown",
   "id": "2d416e5b",
   "metadata": {},
   "source": [
    "### Oslo"
   ]
  },
  {
   "cell_type": "code",
   "execution_count": null,
   "id": "789f41a7",
   "metadata": {},
   "outputs": [],
   "source": [
    "import csv\n",
    "import statistics\n",
    "archivo_melbourne='temperature_Oslo_celsius.csv'\n",
    "valores= []\n",
    "promedio_melbourne = 0.0\n",
    "with open(archivo_melbourne, 'r') as archivo:\n",
    "    reader = csv.reader(archivo)\n",
    "    next(reader)  \n",
    "    valores = [float(fila[0]) for fila in reader]\n",
    "\n",
    "promedio = sum(valores) / len(valores)\n",
    "varianza = sum((x - promedio)**2 for x in valores ) / (len(valores) - 1) \n",
    "desvio=varianza**-2\n",
    "\n",
    "print(promedio)\n",
    "print(varianza)\n",
    "print(desvio)"
   ]
  },
  {
   "cell_type": "markdown",
   "id": "7d30b337",
   "metadata": {},
   "source": [
    "### Quito"
   ]
  },
  {
   "cell_type": "code",
   "execution_count": null,
   "id": "fdf7ead5",
   "metadata": {},
   "outputs": [],
   "source": [
    "import csv\n",
    "import statistics\n",
    "archivo_melbourne='temperature_Quito_celsius.csv'\n",
    "valores= []\n",
    "promedio_melbourne = 0.0\n",
    "with open(archivo_melbourne, 'r') as archivo:\n",
    "    reader = csv.reader(archivo)\n",
    "    next(reader)  \n",
    "    valores = [float(fila[0]) for fila in reader]\n",
    "\n",
    "promedio = sum(valores) / len(valores)\n",
    "varianza = sum((x - promedio)**2 for x in valores ) / (len(valores) - 1) \n",
    "desvio=varianza**-2\n",
    "\n",
    "print(promedio)\n",
    "print(varianza)\n",
    "print(desvio)"
   ]
  }
 ],
 "metadata": {
  "kernelspec": {
   "display_name": ".venv",
   "language": "python",
   "name": "python3"
  },
  "language_info": {
   "codemirror_mode": {
    "name": "ipython",
    "version": 3
   },
   "file_extension": ".py",
   "mimetype": "text/x-python",
   "name": "python",
   "nbconvert_exporter": "python",
   "pygments_lexer": "ipython3",
   "version": "3.12.5"
  }
 },
 "nbformat": 4,
 "nbformat_minor": 5
}
